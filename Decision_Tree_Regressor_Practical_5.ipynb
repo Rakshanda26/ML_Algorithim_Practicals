{
 "cells": [
  {
   "cell_type": "code",
   "execution_count": 14,
   "id": "61137016",
   "metadata": {},
   "outputs": [],
   "source": [
    "from sklearn.datasets import load_diabetes"
   ]
  },
  {
   "cell_type": "code",
   "execution_count": 15,
   "id": "3eef5ecc",
   "metadata": {},
   "outputs": [],
   "source": [
    "df = load_diabetes()"
   ]
  },
  {
   "cell_type": "code",
   "execution_count": 16,
   "id": "c9bc840c",
   "metadata": {},
   "outputs": [
    {
     "data": {
      "text/plain": [
       "dict_keys(['data', 'target', 'frame', 'DESCR', 'feature_names', 'data_filename', 'target_filename'])"
      ]
     },
     "execution_count": 16,
     "metadata": {},
     "output_type": "execute_result"
    }
   ],
   "source": [
    "df.keys()"
   ]
  },
  {
   "cell_type": "code",
   "execution_count": 17,
   "id": "56204a23",
   "metadata": {},
   "outputs": [
    {
     "name": "stdout",
     "output_type": "stream",
     "text": [
      ".. _diabetes_dataset:\n",
      "\n",
      "Diabetes dataset\n",
      "----------------\n",
      "\n",
      "Ten baseline variables, age, sex, body mass index, average blood\n",
      "pressure, and six blood serum measurements were obtained for each of n =\n",
      "442 diabetes patients, as well as the response of interest, a\n",
      "quantitative measure of disease progression one year after baseline.\n",
      "\n",
      "**Data Set Characteristics:**\n",
      "\n",
      "  :Number of Instances: 442\n",
      "\n",
      "  :Number of Attributes: First 10 columns are numeric predictive values\n",
      "\n",
      "  :Target: Column 11 is a quantitative measure of disease progression one year after baseline\n",
      "\n",
      "  :Attribute Information:\n",
      "      - age     age in years\n",
      "      - sex\n",
      "      - bmi     body mass index\n",
      "      - bp      average blood pressure\n",
      "      - s1      tc, total serum cholesterol\n",
      "      - s2      ldl, low-density lipoproteins\n",
      "      - s3      hdl, high-density lipoproteins\n",
      "      - s4      tch, total cholesterol / HDL\n",
      "      - s5      ltg, possibly log of serum triglycerides level\n",
      "      - s6      glu, blood sugar level\n",
      "\n",
      "Note: Each of these 10 feature variables have been mean centered and scaled by the standard deviation times `n_samples` (i.e. the sum of squares of each column totals 1).\n",
      "\n",
      "Source URL:\n",
      "https://www4.stat.ncsu.edu/~boos/var.select/diabetes.html\n",
      "\n",
      "For more information see:\n",
      "Bradley Efron, Trevor Hastie, Iain Johnstone and Robert Tibshirani (2004) \"Least Angle Regression,\" Annals of Statistics (with discussion), 407-499.\n",
      "(https://web.stanford.edu/~hastie/Papers/LARS/LeastAngle_2002.pdf)\n"
     ]
    }
   ],
   "source": [
    "print(df['DESCR'])"
   ]
  },
  {
   "cell_type": "code",
   "execution_count": 18,
   "id": "57f86ea7",
   "metadata": {},
   "outputs": [
    {
     "data": {
      "text/html": [
       "<div>\n",
       "<style scoped>\n",
       "    .dataframe tbody tr th:only-of-type {\n",
       "        vertical-align: middle;\n",
       "    }\n",
       "\n",
       "    .dataframe tbody tr th {\n",
       "        vertical-align: top;\n",
       "    }\n",
       "\n",
       "    .dataframe thead th {\n",
       "        text-align: right;\n",
       "    }\n",
       "</style>\n",
       "<table border=\"1\" class=\"dataframe\">\n",
       "  <thead>\n",
       "    <tr style=\"text-align: right;\">\n",
       "      <th></th>\n",
       "      <th>age</th>\n",
       "      <th>sex</th>\n",
       "      <th>bmi</th>\n",
       "      <th>bp</th>\n",
       "      <th>s1</th>\n",
       "      <th>s2</th>\n",
       "      <th>s3</th>\n",
       "      <th>s4</th>\n",
       "      <th>s5</th>\n",
       "      <th>s6</th>\n",
       "    </tr>\n",
       "  </thead>\n",
       "  <tbody>\n",
       "    <tr>\n",
       "      <th>0</th>\n",
       "      <td>0.038076</td>\n",
       "      <td>0.050680</td>\n",
       "      <td>0.061696</td>\n",
       "      <td>0.021872</td>\n",
       "      <td>-0.044223</td>\n",
       "      <td>-0.034821</td>\n",
       "      <td>-0.043401</td>\n",
       "      <td>-0.002592</td>\n",
       "      <td>0.019908</td>\n",
       "      <td>-0.017646</td>\n",
       "    </tr>\n",
       "    <tr>\n",
       "      <th>1</th>\n",
       "      <td>-0.001882</td>\n",
       "      <td>-0.044642</td>\n",
       "      <td>-0.051474</td>\n",
       "      <td>-0.026328</td>\n",
       "      <td>-0.008449</td>\n",
       "      <td>-0.019163</td>\n",
       "      <td>0.074412</td>\n",
       "      <td>-0.039493</td>\n",
       "      <td>-0.068330</td>\n",
       "      <td>-0.092204</td>\n",
       "    </tr>\n",
       "    <tr>\n",
       "      <th>2</th>\n",
       "      <td>0.085299</td>\n",
       "      <td>0.050680</td>\n",
       "      <td>0.044451</td>\n",
       "      <td>-0.005671</td>\n",
       "      <td>-0.045599</td>\n",
       "      <td>-0.034194</td>\n",
       "      <td>-0.032356</td>\n",
       "      <td>-0.002592</td>\n",
       "      <td>0.002864</td>\n",
       "      <td>-0.025930</td>\n",
       "    </tr>\n",
       "    <tr>\n",
       "      <th>3</th>\n",
       "      <td>-0.089063</td>\n",
       "      <td>-0.044642</td>\n",
       "      <td>-0.011595</td>\n",
       "      <td>-0.036656</td>\n",
       "      <td>0.012191</td>\n",
       "      <td>0.024991</td>\n",
       "      <td>-0.036038</td>\n",
       "      <td>0.034309</td>\n",
       "      <td>0.022692</td>\n",
       "      <td>-0.009362</td>\n",
       "    </tr>\n",
       "    <tr>\n",
       "      <th>4</th>\n",
       "      <td>0.005383</td>\n",
       "      <td>-0.044642</td>\n",
       "      <td>-0.036385</td>\n",
       "      <td>0.021872</td>\n",
       "      <td>0.003935</td>\n",
       "      <td>0.015596</td>\n",
       "      <td>0.008142</td>\n",
       "      <td>-0.002592</td>\n",
       "      <td>-0.031991</td>\n",
       "      <td>-0.046641</td>\n",
       "    </tr>\n",
       "  </tbody>\n",
       "</table>\n",
       "</div>"
      ],
      "text/plain": [
       "        age       sex       bmi        bp        s1        s2        s3  \\\n",
       "0  0.038076  0.050680  0.061696  0.021872 -0.044223 -0.034821 -0.043401   \n",
       "1 -0.001882 -0.044642 -0.051474 -0.026328 -0.008449 -0.019163  0.074412   \n",
       "2  0.085299  0.050680  0.044451 -0.005671 -0.045599 -0.034194 -0.032356   \n",
       "3 -0.089063 -0.044642 -0.011595 -0.036656  0.012191  0.024991 -0.036038   \n",
       "4  0.005383 -0.044642 -0.036385  0.021872  0.003935  0.015596  0.008142   \n",
       "\n",
       "         s4        s5        s6  \n",
       "0 -0.002592  0.019908 -0.017646  \n",
       "1 -0.039493 -0.068330 -0.092204  \n",
       "2 -0.002592  0.002864 -0.025930  \n",
       "3  0.034309  0.022692 -0.009362  \n",
       "4 -0.002592 -0.031991 -0.046641  "
      ]
     },
     "execution_count": 18,
     "metadata": {},
     "output_type": "execute_result"
    }
   ],
   "source": [
    "import pandas as pd\n",
    "df_new =pd.DataFrame(df.data,columns=['age',\n",
    "  'sex',\n",
    "  'bmi',\n",
    "  'bp',\n",
    "  's1',\n",
    "  's2',\n",
    "  's3',\n",
    "  's4',\n",
    "  's5',\n",
    "  's6'])\n",
    "df_new.head()"
   ]
  },
  {
   "cell_type": "code",
   "execution_count": 22,
   "id": "4e9b0aa4",
   "metadata": {},
   "outputs": [],
   "source": [
    "x = df_new\n",
    "y = df['target']"
   ]
  },
  {
   "cell_type": "code",
   "execution_count": 23,
   "id": "7d1a8e30",
   "metadata": {},
   "outputs": [
    {
     "data": {
      "text/plain": [
       "array([151.,  75., 141., 206., 135.,  97., 138.,  63., 110., 310., 101.,\n",
       "        69., 179., 185., 118., 171., 166., 144.,  97., 168.,  68.,  49.,\n",
       "        68., 245., 184., 202., 137.,  85., 131., 283., 129.,  59., 341.,\n",
       "        87.,  65., 102., 265., 276., 252.,  90., 100.,  55.,  61.,  92.,\n",
       "       259.,  53., 190., 142.,  75., 142., 155., 225.,  59., 104., 182.,\n",
       "       128.,  52.,  37., 170., 170.,  61., 144.,  52., 128.,  71., 163.,\n",
       "       150.,  97., 160., 178.,  48., 270., 202., 111.,  85.,  42., 170.,\n",
       "       200., 252., 113., 143.,  51.,  52., 210.,  65., 141.,  55., 134.,\n",
       "        42., 111.,  98., 164.,  48.,  96.,  90., 162., 150., 279.,  92.,\n",
       "        83., 128., 102., 302., 198.,  95.,  53., 134., 144., 232.,  81.,\n",
       "       104.,  59., 246., 297., 258., 229., 275., 281., 179., 200., 200.,\n",
       "       173., 180.,  84., 121., 161.,  99., 109., 115., 268., 274., 158.,\n",
       "       107.,  83., 103., 272.,  85., 280., 336., 281., 118., 317., 235.,\n",
       "        60., 174., 259., 178., 128.,  96., 126., 288.,  88., 292.,  71.,\n",
       "       197., 186.,  25.,  84.,  96., 195.,  53., 217., 172., 131., 214.,\n",
       "        59.,  70., 220., 268., 152.,  47.,  74., 295., 101., 151., 127.,\n",
       "       237., 225.,  81., 151., 107.,  64., 138., 185., 265., 101., 137.,\n",
       "       143., 141.,  79., 292., 178.,  91., 116.,  86., 122.,  72., 129.,\n",
       "       142.,  90., 158.,  39., 196., 222., 277.,  99., 196., 202., 155.,\n",
       "        77., 191.,  70.,  73.,  49.,  65., 263., 248., 296., 214., 185.,\n",
       "        78.,  93., 252., 150.,  77., 208.,  77., 108., 160.,  53., 220.,\n",
       "       154., 259.,  90., 246., 124.,  67.,  72., 257., 262., 275., 177.,\n",
       "        71.,  47., 187., 125.,  78.,  51., 258., 215., 303., 243.,  91.,\n",
       "       150., 310., 153., 346.,  63.,  89.,  50.,  39., 103., 308., 116.,\n",
       "       145.,  74.,  45., 115., 264.,  87., 202., 127., 182., 241.,  66.,\n",
       "        94., 283.,  64., 102., 200., 265.,  94., 230., 181., 156., 233.,\n",
       "        60., 219.,  80.,  68., 332., 248.,  84., 200.,  55.,  85.,  89.,\n",
       "        31., 129.,  83., 275.,  65., 198., 236., 253., 124.,  44., 172.,\n",
       "       114., 142., 109., 180., 144., 163., 147.,  97., 220., 190., 109.,\n",
       "       191., 122., 230., 242., 248., 249., 192., 131., 237.,  78., 135.,\n",
       "       244., 199., 270., 164.,  72.,  96., 306.,  91., 214.,  95., 216.,\n",
       "       263., 178., 113., 200., 139., 139.,  88., 148.,  88., 243.,  71.,\n",
       "        77., 109., 272.,  60.,  54., 221.,  90., 311., 281., 182., 321.,\n",
       "        58., 262., 206., 233., 242., 123., 167.,  63., 197.,  71., 168.,\n",
       "       140., 217., 121., 235., 245.,  40.,  52., 104., 132.,  88.,  69.,\n",
       "       219.,  72., 201., 110.,  51., 277.,  63., 118.,  69., 273., 258.,\n",
       "        43., 198., 242., 232., 175.,  93., 168., 275., 293., 281.,  72.,\n",
       "       140., 189., 181., 209., 136., 261., 113., 131., 174., 257.,  55.,\n",
       "        84.,  42., 146., 212., 233.,  91., 111., 152., 120.,  67., 310.,\n",
       "        94., 183.,  66., 173.,  72.,  49.,  64.,  48., 178., 104., 132.,\n",
       "       220.,  57.])"
      ]
     },
     "execution_count": 23,
     "metadata": {},
     "output_type": "execute_result"
    }
   ],
   "source": []
  },
  {
   "cell_type": "code",
   "execution_count": 25,
   "id": "95f9b42e",
   "metadata": {},
   "outputs": [],
   "source": [
    "from sklearn.model_selection import train_test_split\n",
    "x_train, x_test, y_train, y_test = train_test_split(x,y,test_size=0.3, random_state=10)"
   ]
  },
  {
   "cell_type": "code",
   "execution_count": 27,
   "id": "c97eba1b",
   "metadata": {},
   "outputs": [
    {
     "data": {
      "text/html": [
       "<div>\n",
       "<style scoped>\n",
       "    .dataframe tbody tr th:only-of-type {\n",
       "        vertical-align: middle;\n",
       "    }\n",
       "\n",
       "    .dataframe tbody tr th {\n",
       "        vertical-align: top;\n",
       "    }\n",
       "\n",
       "    .dataframe thead th {\n",
       "        text-align: right;\n",
       "    }\n",
       "</style>\n",
       "<table border=\"1\" class=\"dataframe\">\n",
       "  <thead>\n",
       "    <tr style=\"text-align: right;\">\n",
       "      <th></th>\n",
       "      <th>age</th>\n",
       "      <th>sex</th>\n",
       "      <th>bmi</th>\n",
       "      <th>bp</th>\n",
       "      <th>s1</th>\n",
       "      <th>s2</th>\n",
       "      <th>s3</th>\n",
       "      <th>s4</th>\n",
       "      <th>s5</th>\n",
       "      <th>s6</th>\n",
       "    </tr>\n",
       "  </thead>\n",
       "  <tbody>\n",
       "    <tr>\n",
       "      <th>age</th>\n",
       "      <td>1.000000</td>\n",
       "      <td>0.197408</td>\n",
       "      <td>0.198359</td>\n",
       "      <td>0.394904</td>\n",
       "      <td>0.238375</td>\n",
       "      <td>0.192920</td>\n",
       "      <td>-0.128403</td>\n",
       "      <td>0.227110</td>\n",
       "      <td>0.314153</td>\n",
       "      <td>0.351570</td>\n",
       "    </tr>\n",
       "    <tr>\n",
       "      <th>sex</th>\n",
       "      <td>0.197408</td>\n",
       "      <td>1.000000</td>\n",
       "      <td>0.108261</td>\n",
       "      <td>0.221920</td>\n",
       "      <td>0.057674</td>\n",
       "      <td>0.180315</td>\n",
       "      <td>-0.379464</td>\n",
       "      <td>0.324882</td>\n",
       "      <td>0.150957</td>\n",
       "      <td>0.193322</td>\n",
       "    </tr>\n",
       "    <tr>\n",
       "      <th>bmi</th>\n",
       "      <td>0.198359</td>\n",
       "      <td>0.108261</td>\n",
       "      <td>1.000000</td>\n",
       "      <td>0.356327</td>\n",
       "      <td>0.226047</td>\n",
       "      <td>0.248146</td>\n",
       "      <td>-0.395021</td>\n",
       "      <td>0.412826</td>\n",
       "      <td>0.435507</td>\n",
       "      <td>0.358273</td>\n",
       "    </tr>\n",
       "    <tr>\n",
       "      <th>bp</th>\n",
       "      <td>0.394904</td>\n",
       "      <td>0.221920</td>\n",
       "      <td>0.356327</td>\n",
       "      <td>1.000000</td>\n",
       "      <td>0.238303</td>\n",
       "      <td>0.165642</td>\n",
       "      <td>-0.192504</td>\n",
       "      <td>0.249146</td>\n",
       "      <td>0.420236</td>\n",
       "      <td>0.368881</td>\n",
       "    </tr>\n",
       "    <tr>\n",
       "      <th>s1</th>\n",
       "      <td>0.238375</td>\n",
       "      <td>0.057674</td>\n",
       "      <td>0.226047</td>\n",
       "      <td>0.238303</td>\n",
       "      <td>1.000000</td>\n",
       "      <td>0.872781</td>\n",
       "      <td>0.006313</td>\n",
       "      <td>0.559626</td>\n",
       "      <td>0.566311</td>\n",
       "      <td>0.356280</td>\n",
       "    </tr>\n",
       "    <tr>\n",
       "      <th>s2</th>\n",
       "      <td>0.192920</td>\n",
       "      <td>0.180315</td>\n",
       "      <td>0.248146</td>\n",
       "      <td>0.165642</td>\n",
       "      <td>0.872781</td>\n",
       "      <td>1.000000</td>\n",
       "      <td>-0.265114</td>\n",
       "      <td>0.684840</td>\n",
       "      <td>0.325756</td>\n",
       "      <td>0.315890</td>\n",
       "    </tr>\n",
       "    <tr>\n",
       "      <th>s3</th>\n",
       "      <td>-0.128403</td>\n",
       "      <td>-0.379464</td>\n",
       "      <td>-0.395021</td>\n",
       "      <td>-0.192504</td>\n",
       "      <td>0.006313</td>\n",
       "      <td>-0.265114</td>\n",
       "      <td>1.000000</td>\n",
       "      <td>-0.754616</td>\n",
       "      <td>-0.370521</td>\n",
       "      <td>-0.297055</td>\n",
       "    </tr>\n",
       "    <tr>\n",
       "      <th>s4</th>\n",
       "      <td>0.227110</td>\n",
       "      <td>0.324882</td>\n",
       "      <td>0.412826</td>\n",
       "      <td>0.249146</td>\n",
       "      <td>0.559626</td>\n",
       "      <td>0.684840</td>\n",
       "      <td>-0.754616</td>\n",
       "      <td>1.000000</td>\n",
       "      <td>0.609980</td>\n",
       "      <td>0.436311</td>\n",
       "    </tr>\n",
       "    <tr>\n",
       "      <th>s5</th>\n",
       "      <td>0.314153</td>\n",
       "      <td>0.150957</td>\n",
       "      <td>0.435507</td>\n",
       "      <td>0.420236</td>\n",
       "      <td>0.566311</td>\n",
       "      <td>0.325756</td>\n",
       "      <td>-0.370521</td>\n",
       "      <td>0.609980</td>\n",
       "      <td>1.000000</td>\n",
       "      <td>0.490970</td>\n",
       "    </tr>\n",
       "    <tr>\n",
       "      <th>s6</th>\n",
       "      <td>0.351570</td>\n",
       "      <td>0.193322</td>\n",
       "      <td>0.358273</td>\n",
       "      <td>0.368881</td>\n",
       "      <td>0.356280</td>\n",
       "      <td>0.315890</td>\n",
       "      <td>-0.297055</td>\n",
       "      <td>0.436311</td>\n",
       "      <td>0.490970</td>\n",
       "      <td>1.000000</td>\n",
       "    </tr>\n",
       "  </tbody>\n",
       "</table>\n",
       "</div>"
      ],
      "text/plain": [
       "          age       sex       bmi        bp        s1        s2        s3  \\\n",
       "age  1.000000  0.197408  0.198359  0.394904  0.238375  0.192920 -0.128403   \n",
       "sex  0.197408  1.000000  0.108261  0.221920  0.057674  0.180315 -0.379464   \n",
       "bmi  0.198359  0.108261  1.000000  0.356327  0.226047  0.248146 -0.395021   \n",
       "bp   0.394904  0.221920  0.356327  1.000000  0.238303  0.165642 -0.192504   \n",
       "s1   0.238375  0.057674  0.226047  0.238303  1.000000  0.872781  0.006313   \n",
       "s2   0.192920  0.180315  0.248146  0.165642  0.872781  1.000000 -0.265114   \n",
       "s3  -0.128403 -0.379464 -0.395021 -0.192504  0.006313 -0.265114  1.000000   \n",
       "s4   0.227110  0.324882  0.412826  0.249146  0.559626  0.684840 -0.754616   \n",
       "s5   0.314153  0.150957  0.435507  0.420236  0.566311  0.325756 -0.370521   \n",
       "s6   0.351570  0.193322  0.358273  0.368881  0.356280  0.315890 -0.297055   \n",
       "\n",
       "           s4        s5        s6  \n",
       "age  0.227110  0.314153  0.351570  \n",
       "sex  0.324882  0.150957  0.193322  \n",
       "bmi  0.412826  0.435507  0.358273  \n",
       "bp   0.249146  0.420236  0.368881  \n",
       "s1   0.559626  0.566311  0.356280  \n",
       "s2   0.684840  0.325756  0.315890  \n",
       "s3  -0.754616 -0.370521 -0.297055  \n",
       "s4   1.000000  0.609980  0.436311  \n",
       "s5   0.609980  1.000000  0.490970  \n",
       "s6   0.436311  0.490970  1.000000  "
      ]
     },
     "execution_count": 27,
     "metadata": {},
     "output_type": "execute_result"
    }
   ],
   "source": [
    "x_train.corr()"
   ]
  },
  {
   "cell_type": "code",
   "execution_count": 30,
   "id": "4e9ce9b5",
   "metadata": {},
   "outputs": [
    {
     "data": {
      "text/plain": [
       "<AxesSubplot:>"
      ]
     },
     "execution_count": 30,
     "metadata": {},
     "output_type": "execute_result"
    },
    {
     "data": {
      "image/png": "[encoded data removed]",
      "text/plain": [
       "<Figure size 1080x720 with 2 Axes>"
      ]
     },
     "metadata": {
      "needs_background": "light"
     },
     "output_type": "display_data"
    }
   ],
   "source": [
    "import seaborn as sns\n",
    "import matplotlib.pyplot as plt\n",
    "plt.figure(figsize=(15,10))\n",
    "sns.heatmap(x_train.corr(),annot =True)"
   ]
  },
  {
   "cell_type": "code",
   "execution_count": 31,
   "id": "5bdafb37",
   "metadata": {},
   "outputs": [
    {
     "data": {
      "text/plain": [
       "DecisionTreeRegressor()"
      ]
     },
     "execution_count": 31,
     "metadata": {},
     "output_type": "execute_result"
    }
   ],
   "source": [
    "from sklearn.tree import DecisionTreeRegressor\n",
    "regressor = DecisionTreeRegressor()\n",
    "regressor.fit(x_train,y_train)"
   ]
  },
  {
   "cell_type": "code",
   "execution_count": 33,
   "id": "869b5f52",
   "metadata": {},
   "outputs": [],
   "source": [
    "param = {\n",
    "    'criterion' : ['sqaured_error', 'friedman_mse', 'absolute_error'],\n",
    "    'splitter' : ['best', 'random'],\n",
    "    'max_depth' : [1,2,3,4,5,10,20,25],\n",
    "    'max_features' : ['auto', 'sqrt', 'log2']\n",
    "}"
   ]
  },
  {
   "cell_type": "code",
   "execution_count": 35,
   "id": "c8c471b1",
   "metadata": {},
   "outputs": [],
   "source": [
    "from sklearn.model_selection import GridSearchCV\n",
    "regressor = DecisionTreeRegressor()\n",
    "grid = GridSearchCV(regressor, param_grid=param, cv=5, scoring='neg_mean_squared_error')"
   ]
  },
  {
   "cell_type": "code",
   "execution_count": 36,
   "id": "53716ca3",
   "metadata": {},
   "outputs": [
    {
     "data": {
      "text/plain": [
       "GridSearchCV(cv=5, estimator=DecisionTreeRegressor(),\n",
       "             param_grid={'criterion': ['sqaured_error', 'friedman_mse',\n",
       "                                       'absolute_error'],\n",
       "                         'max_depth': [1, 2, 3, 4, 5, 10, 20, 25],\n",
       "                         'max_features': ['auto', 'sqrt', 'log2'],\n",
       "                         'splitter': ['best', 'random']},\n",
       "             scoring='neg_mean_squared_error')"
      ]
     },
     "execution_count": 36,
     "metadata": {},
     "output_type": "execute_result"
    }
   ],
   "source": [
    "import warnings\n",
    "warnings.filterwarnings('ignore')\n",
    "grid.fit(x_train,y_train)"
   ]
  },
  {
   "cell_type": "code",
   "execution_count": 37,
   "id": "4e9adf8f",
   "metadata": {},
   "outputs": [
    {
     "data": {
      "text/plain": [
       "{'criterion': 'friedman_mse',\n",
       " 'max_depth': 4,\n",
       " 'max_features': 'auto',\n",
       " 'splitter': 'random'}"
      ]
     },
     "execution_count": 37,
     "metadata": {},
     "output_type": "execute_result"
    }
   ],
   "source": [
    "grid.best_params_"
   ]
  },
  {
   "cell_type": "code",
   "execution_count": 39,
   "id": "ae1ed226",
   "metadata": {},
   "outputs": [],
   "source": [
    "## predictions\n",
    "y_pred=grid.predict(x_test)"
   ]
  },
  {
   "cell_type": "code",
   "execution_count": 40,
   "id": "18695bca",
   "metadata": {},
   "outputs": [],
   "source": [
    "from sklearn.metrics import r2_score, mean_absolute_error, mean_squared_error"
   ]
  },
  {
   "cell_type": "code",
   "execution_count": 41,
   "id": "84b38b89",
   "metadata": {},
   "outputs": [
    {
     "name": "stdout",
     "output_type": "stream",
     "text": [
      "0.38020994755966\n",
      "50.845885274871875\n",
      "3921.827599814369\n"
     ]
    }
   ],
   "source": [
    "print(r2_score(y_test,y_pred))\n",
    "print(mean_absolute_error(y_test,y_pred))\n",
    "print(mean_squared_error(y_test,y_pred))"
   ]
  },
  {
   "cell_type": "code",
   "execution_count": 42,
   "id": "efd65319",
   "metadata": {},
   "outputs": [],
   "source": [
    "selectedmodel=DecisionTreeRegressor(criterion='friedman_mse',max_depth=4,max_features='auto',splitter='random')"
   ]
  },
  {
   "cell_type": "code",
   "execution_count": 47,
   "id": "3223a6fc",
   "metadata": {},
   "outputs": [
    {
     "data": {
      "text/plain": [
       "DecisionTreeRegressor(criterion='friedman_mse', max_depth=4,\n",
       "                      max_features='auto', splitter='random')"
      ]
     },
     "execution_count": 47,
     "metadata": {},
     "output_type": "execute_result"
    }
   ],
   "source": [
    "selectedmodel.fit(x_train,y_train)"
   ]
  },
  {
   "cell_type": "code",
   "execution_count": 45,
   "id": "e041a8ff",
   "metadata": {},
   "outputs": [
    {
     "data": {
      "text/plain": [
       "0.3336702831195034"
      ]
     },
     "execution_count": 45,
     "metadata": {},
     "output_type": "execute_result"
    }
   ],
   "source": [
    "selectedmodel.score(x_test,y_test)"
   ]
  },
  {
   "cell_type": "code",
   "execution_count": 46,
   "id": "140e7334",
   "metadata": {},
   "outputs": [
    {
     "data": {
      "text/plain": [
       "[Text(381.13392857142856, 489.24, 'X[8] <= -0.019\\nfriedman_mse = 5757.456\\nsamples = 309\\nvalue = 152.738'),\n",
       " Text(164.41071428571428, 380.52000000000004, 'X[2] <= 0.031\\nfriedman_mse = 2868.499\\nsamples = 111\\nvalue = 105.441'),\n",
       " Text(89.67857142857143, 271.8, 'X[3] <= 0.107\\nfriedman_mse = 2474.5\\nsamples = 97\\nvalue = 100.216'),\n",
       " Text(59.785714285714285, 163.08000000000004, 'X[2] <= -0.059\\nfriedman_mse = 2359.177\\nsamples = 96\\nvalue = 99.01'),\n",
       " Text(29.892857142857142, 54.360000000000014, 'friedman_mse = 605.648\\nsamples = 20\\nvalue = 77.05'),\n",
       " Text(89.67857142857143, 54.360000000000014, 'friedman_mse = 2660.324\\nsamples = 76\\nvalue = 104.789'),\n",
       " Text(119.57142857142857, 163.08000000000004, 'friedman_mse = 0.0\\nsamples = 1\\nvalue = 216.0'),\n",
       " Text(239.14285714285714, 271.8, 'X[1] <= 0.043\\nfriedman_mse = 4098.658\\nsamples = 14\\nvalue = 141.643'),\n",
       " Text(179.35714285714286, 163.08000000000004, 'X[6] <= -0.001\\nfriedman_mse = 3190.021\\nsamples = 12\\nvalue = 127.75'),\n",
       " Text(149.46428571428572, 54.360000000000014, 'friedman_mse = 3998.75\\nsamples = 4\\nvalue = 178.5'),\n",
       " Text(209.25, 54.360000000000014, 'friedman_mse = 853.984\\nsamples = 8\\nvalue = 102.375'),\n",
       " Text(298.92857142857144, 163.08000000000004, 'X[8] <= -0.033\\nfriedman_mse = 1444.0\\nsamples = 2\\nvalue = 225.0'),\n",
       " Text(269.0357142857143, 54.360000000000014, 'friedman_mse = 0.0\\nsamples = 1\\nvalue = 187.0'),\n",
       " Text(328.82142857142856, 54.360000000000014, 'friedman_mse = 0.0\\nsamples = 1\\nvalue = 263.0'),\n",
       " Text(597.8571428571429, 380.52000000000004, 'X[2] <= 0.057\\nfriedman_mse = 5419.946\\nsamples = 198\\nvalue = 179.253'),\n",
       " Text(478.2857142857143, 271.8, 'X[2] <= 0.035\\nfriedman_mse = 4573.185\\nsamples = 167\\nvalue = 167.012'),\n",
       " Text(418.5, 163.08000000000004, 'X[8] <= 0.026\\nfriedman_mse = 4175.381\\nsamples = 139\\nvalue = 158.986'),\n",
       " Text(388.60714285714283, 54.360000000000014, 'friedman_mse = 3950.27\\nsamples = 88\\nvalue = 141.841'),\n",
       " Text(448.3928571428571, 54.360000000000014, 'friedman_mse = 3181.461\\nsamples = 51\\nvalue = 188.569'),\n",
       " Text(538.0714285714286, 163.08000000000004, 'X[9] <= 0.024\\nfriedman_mse = 4640.551\\nsamples = 28\\nvalue = 206.857'),\n",
       " Text(508.17857142857144, 54.360000000000014, 'friedman_mse = 5024.576\\nsamples = 12\\nvalue = 172.583'),\n",
       " Text(567.9642857142857, 54.360000000000014, 'friedman_mse = 2810.746\\nsamples = 16\\nvalue = 232.562'),\n",
       " Text(717.4285714285714, 271.8, 'X[2] <= 0.069\\nfriedman_mse = 4826.156\\nsamples = 31\\nvalue = 245.194'),\n",
       " Text(657.6428571428571, 163.08000000000004, 'X[3] <= -0.021\\nfriedman_mse = 4655.091\\nsamples = 11\\nvalue = 186.0'),\n",
       " Text(627.75, 54.360000000000014, 'friedman_mse = 491.556\\nsamples = 3\\nvalue = 106.667'),\n",
       " Text(687.5357142857142, 54.360000000000014, 'friedman_mse = 2971.188\\nsamples = 8\\nvalue = 215.75'),\n",
       " Text(777.2142857142857, 163.08000000000004, 'X[8] <= 0.03\\nfriedman_mse = 1933.188\\nsamples = 20\\nvalue = 277.75'),\n",
       " Text(747.3214285714286, 54.360000000000014, 'friedman_mse = 1162.122\\nsamples = 7\\nvalue = 314.143'),\n",
       " Text(807.1071428571429, 54.360000000000014, 'friedman_mse = 1251.207\\nsamples = 13\\nvalue = 258.154')]"
      ]
     },
     "execution_count": 46,
     "metadata": {},
     "output_type": "execute_result"
    },
    {
     "data": {
      "image/png": "[encoded data removed]",
      "text/plain": [
       "<Figure size 1080x720 with 1 Axes>"
      ]
     },
     "metadata": {
      "needs_background": "light"
     },
     "output_type": "display_data"
    }
   ],
   "source": [
    "##Visualize the Decision Tree\n",
    "import matplotlib.pyplot as plt\n",
    "from sklearn import tree\n",
    "plt.figure(figsize=(15,10))\n",
    "tree.plot_tree(selectedmodel,filled=True)"
   ]
  },
  {
   "cell_type": "code",
   "execution_count": null,
   "id": "bc7e927d",
   "metadata": {},
   "outputs": [],
   "source": []
  }
 ],
 "metadata": {
  "kernelspec": {
   "display_name": "Python 3 (ipykernel)",
   "language": "python",
   "name": "python3"
  },
  "language_info": {
   "codemirror_mode": {
    "name": "ipython",
    "version": 3
   },
   "file_extension": ".py",
   "mimetype": "text/x-python",
   "name": "python",
   "nbconvert_exporter": "python",
   "pygments_lexer": "ipython3",
   "version": "3.9.7"
  }
 },
 "nbformat": 4,
 "nbformat_minor": 5
}
