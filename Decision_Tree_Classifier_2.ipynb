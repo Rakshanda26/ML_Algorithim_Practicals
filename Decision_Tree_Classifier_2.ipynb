{
 "cells": [
  {
   "cell_type": "code",
   "execution_count": 2,
   "id": "1c06cdf3",
   "metadata": {},
   "outputs": [],
   "source": [
    "import pandas as pd\n",
    "import numpy as np\n",
    "from sklearn.tree import DecisionTreeClassifier\n",
    "from sklearn import tree\n",
    "from sklearn.model_selection import train_test_split, GridSearchCV\n",
    "from sklearn.metrics import accuracy_score, confusion_matrix, roc_auc_score , roc_curve\n",
    "from ydata_profiling import ProfileReport"
   ]
  },
  {
   "cell_type": "code",
   "execution_count": 3,
   "id": "ce6c4c74",
   "metadata": {},
   "outputs": [],
   "source": [
    "df = pd.read_csv('winequality-red.csv')"
   ]
  },
  {
   "cell_type": "code",
   "execution_count": 4,
   "id": "4003b044",
   "metadata": {},
   "outputs": [
    {
     "data": {
      "text/html": [
       "<div>\n",
       "<style scoped>\n",
       "    .dataframe tbody tr th:only-of-type {\n",
       "        vertical-align: middle;\n",
       "    }\n",
       "\n",
       "    .dataframe tbody tr th {\n",
       "        vertical-align: top;\n",
       "    }\n",
       "\n",
       "    .dataframe thead th {\n",
       "        text-align: right;\n",
       "    }\n",
       "</style>\n",
       "<table border=\"1\" class=\"dataframe\">\n",
       "  <thead>\n",
       "    <tr style=\"text-align: right;\">\n",
       "      <th></th>\n",
       "      <th>fixed acidity</th>\n",
       "      <th>volatile acidity</th>\n",
       "      <th>citric acid</th>\n",
       "      <th>residual sugar</th>\n",
       "      <th>chlorides</th>\n",
       "      <th>free sulfur dioxide</th>\n",
       "      <th>total sulfur dioxide</th>\n",
       "      <th>density</th>\n",
       "      <th>pH</th>\n",
       "      <th>sulphates</th>\n",
       "      <th>alcohol</th>\n",
       "      <th>quality</th>\n",
       "    </tr>\n",
       "  </thead>\n",
       "  <tbody>\n",
       "    <tr>\n",
       "      <th>0</th>\n",
       "      <td>7.4</td>\n",
       "      <td>0.70</td>\n",
       "      <td>0.00</td>\n",
       "      <td>1.9</td>\n",
       "      <td>0.076</td>\n",
       "      <td>11.0</td>\n",
       "      <td>34.0</td>\n",
       "      <td>0.9978</td>\n",
       "      <td>3.51</td>\n",
       "      <td>0.56</td>\n",
       "      <td>9.4</td>\n",
       "      <td>5</td>\n",
       "    </tr>\n",
       "    <tr>\n",
       "      <th>1</th>\n",
       "      <td>7.8</td>\n",
       "      <td>0.88</td>\n",
       "      <td>0.00</td>\n",
       "      <td>2.6</td>\n",
       "      <td>0.098</td>\n",
       "      <td>25.0</td>\n",
       "      <td>67.0</td>\n",
       "      <td>0.9968</td>\n",
       "      <td>3.20</td>\n",
       "      <td>0.68</td>\n",
       "      <td>9.8</td>\n",
       "      <td>5</td>\n",
       "    </tr>\n",
       "    <tr>\n",
       "      <th>2</th>\n",
       "      <td>7.8</td>\n",
       "      <td>0.76</td>\n",
       "      <td>0.04</td>\n",
       "      <td>2.3</td>\n",
       "      <td>0.092</td>\n",
       "      <td>15.0</td>\n",
       "      <td>54.0</td>\n",
       "      <td>0.9970</td>\n",
       "      <td>3.26</td>\n",
       "      <td>0.65</td>\n",
       "      <td>9.8</td>\n",
       "      <td>5</td>\n",
       "    </tr>\n",
       "  </tbody>\n",
       "</table>\n",
       "</div>"
      ],
      "text/plain": [
       "   fixed acidity  volatile acidity  citric acid  residual sugar  chlorides  \\\n",
       "0            7.4              0.70         0.00             1.9      0.076   \n",
       "1            7.8              0.88         0.00             2.6      0.098   \n",
       "2            7.8              0.76         0.04             2.3      0.092   \n",
       "\n",
       "   free sulfur dioxide  total sulfur dioxide  density    pH  sulphates  \\\n",
       "0                 11.0                  34.0   0.9978  3.51       0.56   \n",
       "1                 25.0                  67.0   0.9968  3.20       0.68   \n",
       "2                 15.0                  54.0   0.9970  3.26       0.65   \n",
       "\n",
       "   alcohol  quality  \n",
       "0      9.4        5  \n",
       "1      9.8        5  \n",
       "2      9.8        5  "
      ]
     },
     "execution_count": 4,
     "metadata": {},
     "output_type": "execute_result"
    }
   ],
   "source": [
    "df.head(3)"
   ]
  },
  {
   "cell_type": "code",
   "execution_count": 5,
   "id": "30416de5",
   "metadata": {},
   "outputs": [],
   "source": [
    "#ProfileReport(df)"
   ]
  },
  {
   "cell_type": "code",
   "execution_count": 6,
   "id": "f90ef537",
   "metadata": {},
   "outputs": [
    {
     "data": {
      "text/plain": [
       "{3, 4, 5, 6, 7, 8}"
      ]
     },
     "execution_count": 6,
     "metadata": {},
     "output_type": "execute_result"
    }
   ],
   "source": [
    "set(df.quality)"
   ]
  },
  {
   "cell_type": "code",
   "execution_count": 7,
   "id": "5bd2d535",
   "metadata": {},
   "outputs": [],
   "source": [
    "#ProfileReport(df)"
   ]
  },
  {
   "cell_type": "code",
   "execution_count": 8,
   "id": "e131e367",
   "metadata": {},
   "outputs": [],
   "source": [
    "x = df.drop(columns='quality')\n",
    "y = df.quality\n",
    "x_train, x_test, y_train, y_test = train_test_split (x,y,test_size=0.25, random_state=300)"
   ]
  },
  {
   "cell_type": "code",
   "execution_count": 9,
   "id": "12435160",
   "metadata": {},
   "outputs": [],
   "source": [
    "x_train, x_test, y_train, y_test = train_test_split (x,y,test_size=0.25, random_state=300)"
   ]
  },
  {
   "cell_type": "code",
   "execution_count": 10,
   "id": "947504a1",
   "metadata": {},
   "outputs": [
    {
     "data": {
      "text/plain": [
       "DecisionTreeClassifier()"
      ]
     },
     "execution_count": 10,
     "metadata": {},
     "output_type": "execute_result"
    }
   ],
   "source": [
    "dt_model = DecisionTreeClassifier()\n",
    "dt_model.fit(x_train,y_train)"
   ]
  },
  {
   "cell_type": "code",
   "execution_count": 11,
   "id": "fd85fc87",
   "metadata": {},
   "outputs": [],
   "source": [
    "import sklearn\n",
    "import matplotlib.pyplot as plt\n",
    "from sklearn import tree\n",
    "%matplotlib inline"
   ]
  },
  {
   "cell_type": "code",
   "execution_count": 12,
   "id": "d082f926",
   "metadata": {},
   "outputs": [
    {
     "data": {
      "text/plain": [
       "'0.24.2'"
      ]
     },
     "execution_count": 12,
     "metadata": {},
     "output_type": "execute_result"
    }
   ],
   "source": [
    "sklearn.__version__"
   ]
  },
  {
   "cell_type": "raw",
   "id": "30c3c5e0",
   "metadata": {},
   "source": [
    "plt.figure(figsize=(20,20))\n",
    "tree.plot_tree(dt_model,filled=True)"
   ]
  },
  {
   "cell_type": "code",
   "execution_count": 13,
   "id": "10be2fa1",
   "metadata": {},
   "outputs": [],
   "source": [
    "df1 = df.head(500)\n",
    "x1 = df1.drop(columns='quality')\n",
    "y1 = df1.quality"
   ]
  },
  {
   "cell_type": "code",
   "execution_count": 14,
   "id": "faa09e27",
   "metadata": {},
   "outputs": [
    {
     "data": {
      "text/plain": [
       "DecisionTreeClassifier()"
      ]
     },
     "execution_count": 14,
     "metadata": {},
     "output_type": "execute_result"
    }
   ],
   "source": [
    "dt_model_1 = DecisionTreeClassifier()\n",
    "dt_model_1.fit(x1,y1)"
   ]
  },
  {
   "cell_type": "code",
   "execution_count": 16,
   "id": "5916b8f3",
   "metadata": {},
   "outputs": [
    {
     "data": {
      "text/plain": [
       "[Text(488.5710871104816, 1055.2235294117647, 'alcohol <= 9.85\\ngini = 0.624\\nsamples = 500\\nvalue = [1, 16, 239, 184, 52, 8]\\nclass = 5'),\n",
       " Text(301.26203966005664, 991.2705882352941, 'total sulfur dioxide <= 62.5\\ngini = 0.504\\nsamples = 259\\nvalue = [1, 12, 167, 72, 6, 1]\\nclass = 5'),\n",
       " Text(187.31728045325778, 927.3176470588236, 'citric acid <= 0.415\\ngini = 0.576\\nsamples = 169\\nvalue = [1, 9, 91, 61, 6, 1]\\nclass = 5'),\n",
       " Text(87.9943342776204, 863.364705882353, 'alcohol <= 9.05\\ngini = 0.525\\nsamples = 131\\nvalue = [0, 8, 81, 39, 3, 0]\\nclass = 5'),\n",
       " Text(33.72237960339943, 799.4117647058824, 'sulphates <= 0.54\\ngini = 0.403\\nsamples = 12\\nvalue = [0, 2, 1, 9, 0, 0]\\nclass = 6'),\n",
       " Text(25.291784702549574, 735.4588235294118, 'volatile acidity <= 0.605\\ngini = 0.444\\nsamples = 3\\nvalue = [0, 2, 1, 0, 0, 0]\\nclass = 4'),\n",
       " Text(16.861189801699716, 671.5058823529412, 'gini = 0.0\\nsamples = 2\\nvalue = [0, 2, 0, 0, 0, 0]\\nclass = 4'),\n",
       " Text(33.72237960339943, 671.5058823529412, 'gini = 0.0\\nsamples = 1\\nvalue = [0, 0, 1, 0, 0, 0]\\nclass = 5'),\n",
       " Text(42.152974504249286, 735.4588235294118, 'gini = 0.0\\nsamples = 9\\nvalue = [0, 0, 0, 9, 0, 0]\\nclass = 6'),\n",
       " Text(142.26628895184135, 799.4117647058824, 'density <= 0.999\\ngini = 0.481\\nsamples = 119\\nvalue = [0, 6, 80, 30, 3, 0]\\nclass = 5'),\n",
       " Text(90.62889518413597, 735.4588235294118, 'pH <= 3.285\\ngini = 0.443\\nsamples = 108\\nvalue = [0, 5, 77, 23, 3, 0]\\nclass = 5'),\n",
       " Text(50.58356940509915, 671.5058823529412, 'residual sugar <= 2.75\\ngini = 0.216\\nsamples = 34\\nvalue = [0, 2, 30, 1, 1, 0]\\nclass = 5'),\n",
       " Text(42.152974504249286, 607.5529411764707, 'citric acid <= 0.11\\ngini = 0.171\\nsamples = 33\\nvalue = [0, 1, 30, 1, 1, 0]\\nclass = 5'),\n",
       " Text(25.291784702549574, 543.6, 'citric acid <= 0.065\\ngini = 0.449\\nsamples = 7\\nvalue = [0, 1, 5, 1, 0, 0]\\nclass = 5'),\n",
       " Text(16.861189801699716, 479.6470588235295, 'pH <= 3.185\\ngini = 0.278\\nsamples = 6\\nvalue = [0, 1, 5, 0, 0, 0]\\nclass = 5'),\n",
       " Text(8.430594900849858, 415.6941176470589, 'gini = 0.0\\nsamples = 1\\nvalue = [0, 1, 0, 0, 0, 0]\\nclass = 4'),\n",
       " Text(25.291784702549574, 415.6941176470589, 'gini = 0.0\\nsamples = 5\\nvalue = [0, 0, 5, 0, 0, 0]\\nclass = 5'),\n",
       " Text(33.72237960339943, 479.6470588235295, 'gini = 0.0\\nsamples = 1\\nvalue = [0, 0, 0, 1, 0, 0]\\nclass = 6'),\n",
       " Text(59.01416430594901, 543.6, 'chlorides <= 0.067\\ngini = 0.074\\nsamples = 26\\nvalue = [0, 0, 25, 0, 1, 0]\\nclass = 5'),\n",
       " Text(50.58356940509915, 479.6470588235295, 'alcohol <= 9.6\\ngini = 0.375\\nsamples = 4\\nvalue = [0, 0, 3, 0, 1, 0]\\nclass = 5'),\n",
       " Text(42.152974504249286, 415.6941176470589, 'gini = 0.0\\nsamples = 3\\nvalue = [0, 0, 3, 0, 0, 0]\\nclass = 5'),\n",
       " Text(59.01416430594901, 415.6941176470589, 'gini = 0.0\\nsamples = 1\\nvalue = [0, 0, 0, 0, 1, 0]\\nclass = 7'),\n",
       " Text(67.44475920679886, 479.6470588235295, 'gini = 0.0\\nsamples = 22\\nvalue = [0, 0, 22, 0, 0, 0]\\nclass = 5'),\n",
       " Text(59.01416430594901, 607.5529411764707, 'gini = 0.0\\nsamples = 1\\nvalue = [0, 1, 0, 0, 0, 0]\\nclass = 4'),\n",
       " Text(130.6742209631728, 671.5058823529412, 'volatile acidity <= 0.665\\ngini = 0.506\\nsamples = 74\\nvalue = [0, 3, 47, 22, 2, 0]\\nclass = 5'),\n",
       " Text(109.59773371104815, 607.5529411764707, 'density <= 0.996\\ngini = 0.53\\nsamples = 52\\nvalue = [0, 0, 28, 22, 2, 0]\\nclass = 5'),\n",
       " Text(92.73654390934844, 543.6, 'citric acid <= 0.06\\ngini = 0.291\\nsamples = 17\\nvalue = [0, 0, 14, 3, 0, 0]\\nclass = 5'),\n",
       " Text(84.30594900849857, 479.6470588235295, 'fixed acidity <= 6.7\\ngini = 0.48\\nsamples = 5\\nvalue = [0, 0, 2, 3, 0, 0]\\nclass = 6'),\n",
       " Text(75.87535410764872, 415.6941176470589, 'gini = 0.0\\nsamples = 3\\nvalue = [0, 0, 0, 3, 0, 0]\\nclass = 6'),\n",
       " Text(92.73654390934844, 415.6941176470589, 'gini = 0.0\\nsamples = 2\\nvalue = [0, 0, 2, 0, 0, 0]\\nclass = 5'),\n",
       " Text(101.1671388101983, 479.6470588235295, 'gini = 0.0\\nsamples = 12\\nvalue = [0, 0, 12, 0, 0, 0]\\nclass = 5'),\n",
       " Text(126.45892351274787, 543.6, 'chlorides <= 0.087\\ngini = 0.542\\nsamples = 35\\nvalue = [0, 0, 14, 19, 2, 0]\\nclass = 6'),\n",
       " Text(118.02832861189802, 479.6470588235295, 'sulphates <= 0.635\\ngini = 0.561\\nsamples = 29\\nvalue = [0, 0, 14, 13, 2, 0]\\nclass = 5'),\n",
       " Text(109.59773371104815, 415.6941176470589, 'volatile acidity <= 0.47\\ngini = 0.541\\nsamples = 22\\nvalue = [0, 0, 7, 13, 2, 0]\\nclass = 6'),\n",
       " Text(101.1671388101983, 351.74117647058824, 'gini = 0.0\\nsamples = 7\\nvalue = [0, 0, 0, 7, 0, 0]\\nclass = 6'),\n",
       " Text(118.02832861189802, 351.74117647058824, 'residual sugar <= 2.1\\ngini = 0.604\\nsamples = 15\\nvalue = [0, 0, 7, 6, 2, 0]\\nclass = 5'),\n",
       " Text(109.59773371104815, 287.7882352941177, 'residual sugar <= 1.85\\ngini = 0.595\\nsamples = 11\\nvalue = [0, 0, 3, 6, 2, 0]\\nclass = 6'),\n",
       " Text(92.73654390934844, 223.8352941176471, 'alcohol <= 9.7\\ngini = 0.375\\nsamples = 4\\nvalue = [0, 0, 3, 1, 0, 0]\\nclass = 5'),\n",
       " Text(84.30594900849857, 159.88235294117646, 'gini = 0.0\\nsamples = 3\\nvalue = [0, 0, 3, 0, 0, 0]\\nclass = 5'),\n",
       " Text(101.1671388101983, 159.88235294117646, 'gini = 0.0\\nsamples = 1\\nvalue = [0, 0, 0, 1, 0, 0]\\nclass = 6'),\n",
       " Text(126.45892351274787, 223.8352941176471, 'volatile acidity <= 0.6\\ngini = 0.408\\nsamples = 7\\nvalue = [0, 0, 0, 5, 2, 0]\\nclass = 6'),\n",
       " Text(118.02832861189802, 159.88235294117646, 'alcohol <= 9.45\\ngini = 0.444\\nsamples = 3\\nvalue = [0, 0, 0, 1, 2, 0]\\nclass = 7'),\n",
       " Text(109.59773371104815, 95.92941176470595, 'gini = 0.0\\nsamples = 1\\nvalue = [0, 0, 0, 1, 0, 0]\\nclass = 6'),\n",
       " Text(126.45892351274787, 95.92941176470595, 'gini = 0.0\\nsamples = 2\\nvalue = [0, 0, 0, 0, 2, 0]\\nclass = 7'),\n",
       " Text(134.88951841359773, 159.88235294117646, 'gini = 0.0\\nsamples = 4\\nvalue = [0, 0, 0, 4, 0, 0]\\nclass = 6'),\n",
       " Text(126.45892351274787, 287.7882352941177, 'gini = 0.0\\nsamples = 4\\nvalue = [0, 0, 4, 0, 0, 0]\\nclass = 5'),\n",
       " Text(126.45892351274787, 415.6941176470589, 'gini = 0.0\\nsamples = 7\\nvalue = [0, 0, 7, 0, 0, 0]\\nclass = 5'),\n",
       " Text(134.88951841359773, 479.6470588235295, 'gini = 0.0\\nsamples = 6\\nvalue = [0, 0, 0, 6, 0, 0]\\nclass = 6'),\n",
       " Text(151.75070821529744, 607.5529411764707, 'sulphates <= 0.485\\ngini = 0.236\\nsamples = 22\\nvalue = [0, 3, 19, 0, 0, 0]\\nclass = 5'),\n",
       " Text(143.32011331444758, 543.6, 'gini = 0.0\\nsamples = 2\\nvalue = [0, 2, 0, 0, 0, 0]\\nclass = 4'),\n",
       " Text(160.1813031161473, 543.6, 'citric acid <= 0.24\\ngini = 0.095\\nsamples = 20\\nvalue = [0, 1, 19, 0, 0, 0]\\nclass = 5'),\n",
       " Text(151.75070821529744, 479.6470588235295, 'gini = 0.0\\nsamples = 19\\nvalue = [0, 0, 19, 0, 0, 0]\\nclass = 5'),\n",
       " Text(168.61189801699715, 479.6470588235295, 'gini = 0.0\\nsamples = 1\\nvalue = [0, 1, 0, 0, 0, 0]\\nclass = 4'),\n",
       " Text(193.90368271954674, 735.4588235294118, 'alcohol <= 9.65\\ngini = 0.512\\nsamples = 11\\nvalue = [0, 1, 3, 7, 0, 0]\\nclass = 6'),\n",
       " Text(177.04249291784703, 671.5058823529412, 'residual sugar <= 13.25\\ngini = 0.219\\nsamples = 8\\nvalue = [0, 0, 1, 7, 0, 0]\\nclass = 6'),\n",
       " Text(168.61189801699715, 607.5529411764707, 'gini = 0.0\\nsamples = 7\\nvalue = [0, 0, 0, 7, 0, 0]\\nclass = 6'),\n",
       " Text(185.47308781869688, 607.5529411764707, 'gini = 0.0\\nsamples = 1\\nvalue = [0, 0, 1, 0, 0, 0]\\nclass = 5'),\n",
       " Text(210.76487252124645, 671.5058823529412, 'alcohol <= 9.75\\ngini = 0.444\\nsamples = 3\\nvalue = [0, 1, 2, 0, 0, 0]\\nclass = 5'),\n",
       " Text(202.3342776203966, 607.5529411764707, 'gini = 0.0\\nsamples = 2\\nvalue = [0, 0, 2, 0, 0, 0]\\nclass = 5'),\n",
       " Text(219.1954674220963, 607.5529411764707, 'gini = 0.0\\nsamples = 1\\nvalue = [0, 1, 0, 0, 0, 0]\\nclass = 4'),\n",
       " Text(286.64022662889516, 863.364705882353, 'citric acid <= 0.565\\ngini = 0.587\\nsamples = 38\\nvalue = [1, 1, 10, 22, 3, 1]\\nclass = 6'),\n",
       " Text(252.91784702549575, 799.4117647058824, 'fixed acidity <= 12.35\\ngini = 0.438\\nsamples = 26\\nvalue = [0, 1, 3, 19, 3, 0]\\nclass = 6'),\n",
       " Text(236.05665722379604, 735.4588235294118, 'sulphates <= 0.52\\ngini = 0.245\\nsamples = 21\\nvalue = [0, 0, 3, 18, 0, 0]\\nclass = 6'),\n",
       " Text(227.62606232294615, 671.5058823529412, 'gini = 0.0\\nsamples = 1\\nvalue = [0, 0, 1, 0, 0, 0]\\nclass = 5'),\n",
       " Text(244.4872521246459, 671.5058823529412, 'residual sugar <= 1.65\\ngini = 0.18\\nsamples = 20\\nvalue = [0, 0, 2, 18, 0, 0]\\nclass = 6'),\n",
       " Text(236.05665722379604, 607.5529411764707, 'gini = 0.0\\nsamples = 1\\nvalue = [0, 0, 1, 0, 0, 0]\\nclass = 5'),\n",
       " Text(252.91784702549575, 607.5529411764707, 'density <= 1.0\\ngini = 0.1\\nsamples = 19\\nvalue = [0, 0, 1, 18, 0, 0]\\nclass = 6'),\n",
       " Text(244.4872521246459, 543.6, 'gini = 0.0\\nsamples = 18\\nvalue = [0, 0, 0, 18, 0, 0]\\nclass = 6'),\n",
       " Text(261.3484419263456, 543.6, 'gini = 0.0\\nsamples = 1\\nvalue = [0, 0, 1, 0, 0, 0]\\nclass = 5'),\n",
       " Text(269.77903682719545, 735.4588235294118, 'volatile acidity <= 0.31\\ngini = 0.56\\nsamples = 5\\nvalue = [0, 1, 0, 1, 3, 0]\\nclass = 7'),\n",
       " Text(261.3484419263456, 671.5058823529412, 'gini = 0.0\\nsamples = 3\\nvalue = [0, 0, 0, 0, 3, 0]\\nclass = 7'),\n",
       " Text(278.20963172804534, 671.5058823529412, 'residual sugar <= 3.85\\ngini = 0.5\\nsamples = 2\\nvalue = [0, 1, 0, 1, 0, 0]\\nclass = 4'),\n",
       " Text(269.77903682719545, 607.5529411764707, 'gini = 0.0\\nsamples = 1\\nvalue = [0, 0, 0, 1, 0, 0]\\nclass = 6'),\n",
       " Text(286.64022662889516, 607.5529411764707, 'gini = 0.0\\nsamples = 1\\nvalue = [0, 1, 0, 0, 0, 0]\\nclass = 4'),\n",
       " Text(320.3626062322946, 799.4117647058824, 'fixed acidity <= 12.45\\ngini = 0.583\\nsamples = 12\\nvalue = [1, 0, 7, 3, 0, 1]\\nclass = 5'),\n",
       " Text(303.5014164305949, 735.4588235294118, 'pH <= 3.165\\ngini = 0.37\\nsamples = 9\\nvalue = [1, 0, 7, 1, 0, 0]\\nclass = 5'),\n",
       " Text(295.07082152974505, 671.5058823529412, 'gini = 0.0\\nsamples = 7\\nvalue = [0, 0, 7, 0, 0, 0]\\nclass = 5'),\n",
       " Text(311.93201133144476, 671.5058823529412, 'volatile acidity <= 0.47\\ngini = 0.5\\nsamples = 2\\nvalue = [1, 0, 0, 1, 0, 0]\\nclass = 3'),\n",
       " Text(303.5014164305949, 607.5529411764707, 'gini = 0.0\\nsamples = 1\\nvalue = [0, 0, 0, 1, 0, 0]\\nclass = 6'),\n",
       " Text(320.3626062322946, 607.5529411764707, 'gini = 0.0\\nsamples = 1\\nvalue = [1, 0, 0, 0, 0, 0]\\nclass = 3'),\n",
       " Text(337.2237960339943, 735.4588235294118, 'chlorides <= 0.077\\ngini = 0.444\\nsamples = 3\\nvalue = [0, 0, 0, 2, 0, 1]\\nclass = 6'),\n",
       " Text(328.79320113314446, 671.5058823529412, 'gini = 0.0\\nsamples = 1\\nvalue = [0, 0, 0, 0, 0, 1]\\nclass = 8'),\n",
       " Text(345.6543909348442, 671.5058823529412, 'gini = 0.0\\nsamples = 2\\nvalue = [0, 0, 0, 2, 0, 0]\\nclass = 6'),\n",
       " Text(415.2067988668555, 927.3176470588236, 'citric acid <= 0.85\\ngini = 0.271\\nsamples = 90\\nvalue = [0, 3, 76, 11, 0, 0]\\nclass = 5'),\n",
       " Text(406.77620396600565, 863.364705882353, 'pH <= 3.335\\ngini = 0.255\\nsamples = 89\\nvalue = [0, 2, 76, 11, 0, 0]\\nclass = 5'),\n",
       " Text(370.94617563739376, 799.4117647058824, 'chlorides <= 0.067\\ngini = 0.176\\nsamples = 73\\nvalue = [0, 1, 66, 6, 0, 0]\\nclass = 5'),\n",
       " Text(362.5155807365439, 735.4588235294118, 'gini = 0.0\\nsamples = 1\\nvalue = [0, 0, 0, 1, 0, 0]\\nclass = 6'),\n",
       " Text(379.3767705382436, 735.4588235294118, 'residual sugar <= 1.55\\ngini = 0.155\\nsamples = 72\\nvalue = [0, 1, 66, 5, 0, 0]\\nclass = 5'),\n",
       " Text(362.5155807365439, 671.5058823529412, 'volatile acidity <= 0.468\\ngini = 0.5\\nsamples = 2\\nvalue = [0, 1, 1, 0, 0, 0]\\nclass = 4'),\n",
       " Text(354.08498583569406, 607.5529411764707, 'gini = 0.0\\nsamples = 1\\nvalue = [0, 0, 1, 0, 0, 0]\\nclass = 5'),\n",
       " Text(370.94617563739376, 607.5529411764707, 'gini = 0.0\\nsamples = 1\\nvalue = [0, 1, 0, 0, 0, 0]\\nclass = 4'),\n",
       " Text(396.2379603399433, 671.5058823529412, 'density <= 0.996\\ngini = 0.133\\nsamples = 70\\nvalue = [0, 0, 65, 5, 0, 0]\\nclass = 5'),\n",
       " Text(387.8073654390935, 607.5529411764707, 'gini = 0.0\\nsamples = 1\\nvalue = [0, 0, 0, 1, 0, 0]\\nclass = 6'),\n",
       " Text(404.6685552407932, 607.5529411764707, 'sulphates <= 1.6\\ngini = 0.109\\nsamples = 69\\nvalue = [0, 0, 65, 4, 0, 0]\\nclass = 5'),\n",
       " Text(387.8073654390935, 543.6, 'pH <= 3.265\\ngini = 0.086\\nsamples = 67\\nvalue = [0, 0, 64, 3, 0, 0]\\nclass = 5'),\n",
       " Text(379.3767705382436, 479.6470588235295, 'gini = 0.0\\nsamples = 46\\nvalue = [0, 0, 46, 0, 0, 0]\\nclass = 5'),\n",
       " Text(396.2379603399433, 479.6470588235295, 'fixed acidity <= 10.1\\ngini = 0.245\\nsamples = 21\\nvalue = [0, 0, 18, 3, 0, 0]\\nclass = 5'),\n",
       " Text(387.8073654390935, 415.6941176470589, 'volatile acidity <= 0.545\\ngini = 0.18\\nsamples = 20\\nvalue = [0, 0, 18, 2, 0, 0]\\nclass = 5'),\n",
       " Text(379.3767705382436, 351.74117647058824, 'free sulfur dioxide <= 21.5\\ngini = 0.48\\nsamples = 5\\nvalue = [0, 0, 3, 2, 0, 0]\\nclass = 5'),\n",
       " Text(370.94617563739376, 287.7882352941177, 'gini = 0.0\\nsamples = 2\\nvalue = [0, 0, 0, 2, 0, 0]\\nclass = 6'),\n",
       " Text(387.8073654390935, 287.7882352941177, 'gini = 0.0\\nsamples = 3\\nvalue = [0, 0, 3, 0, 0, 0]\\nclass = 5'),\n",
       " Text(396.2379603399433, 351.74117647058824, 'gini = 0.0\\nsamples = 15\\nvalue = [0, 0, 15, 0, 0, 0]\\nclass = 5'),\n",
       " Text(404.6685552407932, 415.6941176470589, 'gini = 0.0\\nsamples = 1\\nvalue = [0, 0, 0, 1, 0, 0]\\nclass = 6'),\n",
       " Text(421.5297450424929, 543.6, 'volatile acidity <= 0.54\\ngini = 0.5\\nsamples = 2\\nvalue = [0, 0, 1, 1, 0, 0]\\nclass = 5'),\n",
       " Text(413.09915014164307, 479.6470588235295, 'gini = 0.0\\nsamples = 1\\nvalue = [0, 0, 1, 0, 0, 0]\\nclass = 5'),\n",
       " Text(429.9603399433428, 479.6470588235295, 'gini = 0.0\\nsamples = 1\\nvalue = [0, 0, 0, 1, 0, 0]\\nclass = 6'),\n",
       " Text(442.60623229461754, 799.4117647058824, 'citric acid <= 0.145\\ngini = 0.508\\nsamples = 16\\nvalue = [0, 1, 10, 5, 0, 0]\\nclass = 5'),\n",
       " Text(421.5297450424929, 735.4588235294118, 'volatile acidity <= 0.833\\ngini = 0.444\\nsamples = 3\\nvalue = [0, 1, 0, 2, 0, 0]\\nclass = 6'),\n",
       " Text(413.09915014164307, 671.5058823529412, 'gini = 0.0\\nsamples = 2\\nvalue = [0, 0, 0, 2, 0, 0]\\nclass = 6'),\n",
       " Text(429.9603399433428, 671.5058823529412, 'gini = 0.0\\nsamples = 1\\nvalue = [0, 1, 0, 0, 0, 0]\\nclass = 4'),\n",
       " Text(463.6827195467422, 735.4588235294118, 'fixed acidity <= 7.9\\ngini = 0.355\\nsamples = 13\\nvalue = [0, 0, 10, 3, 0, 0]\\nclass = 5'),\n",
       " Text(446.8215297450425, 671.5058823529412, 'pH <= 3.565\\ngini = 0.18\\nsamples = 10\\nvalue = [0, 0, 9, 1, 0, 0]\\nclass = 5'),\n",
       " Text(438.3909348441926, 607.5529411764707, 'gini = 0.0\\nsamples = 9\\nvalue = [0, 0, 9, 0, 0, 0]\\nclass = 5'),\n",
       " Text(455.2521246458923, 607.5529411764707, 'gini = 0.0\\nsamples = 1\\nvalue = [0, 0, 0, 1, 0, 0]\\nclass = 6'),\n",
       " Text(480.5439093484419, 671.5058823529412, 'total sulfur dioxide <= 79.0\\ngini = 0.444\\nsamples = 3\\nvalue = [0, 0, 1, 2, 0, 0]\\nclass = 6'),\n",
       " Text(472.1133144475921, 607.5529411764707, 'gini = 0.0\\nsamples = 1\\nvalue = [0, 0, 1, 0, 0, 0]\\nclass = 5'),\n",
       " Text(488.9745042492918, 607.5529411764707, 'gini = 0.0\\nsamples = 2\\nvalue = [0, 0, 0, 2, 0, 0]\\nclass = 6'),\n",
       " Text(423.63739376770536, 863.364705882353, 'gini = 0.0\\nsamples = 1\\nvalue = [0, 1, 0, 0, 0, 0]\\nclass = 4'),\n",
       " Text(675.8801345609065, 991.2705882352941, 'sulphates <= 0.545\\ngini = 0.657\\nsamples = 241\\nvalue = [0, 4, 72, 112, 46, 7]\\nclass = 6'),\n",
       " Text(514.2662889518414, 927.3176470588236, 'chlorides <= 0.08\\ngini = 0.408\\nsamples = 32\\nvalue = [0, 2, 24, 5, 1, 0]\\nclass = 5'),\n",
       " Text(505.8356940509915, 863.364705882353, 'density <= 0.995\\ngini = 0.675\\nsamples = 13\\nvalue = [0, 2, 5, 5, 1, 0]\\nclass = 5'),\n",
       " Text(488.9745042492918, 799.4117647058824, 'fixed acidity <= 7.1\\ngini = 0.444\\nsamples = 3\\nvalue = [0, 2, 0, 0, 1, 0]\\nclass = 4'),\n",
       " Text(480.5439093484419, 735.4588235294118, 'gini = 0.0\\nsamples = 2\\nvalue = [0, 2, 0, 0, 0, 0]\\nclass = 4'),\n",
       " Text(497.4050991501416, 735.4588235294118, 'gini = 0.0\\nsamples = 1\\nvalue = [0, 0, 0, 0, 1, 0]\\nclass = 7'),\n",
       " Text(522.6968838526911, 799.4117647058824, 'residual sugar <= 1.85\\ngini = 0.5\\nsamples = 10\\nvalue = [0, 0, 5, 5, 0, 0]\\nclass = 5'),\n",
       " Text(514.2662889518414, 735.4588235294118, 'gini = 0.0\\nsamples = 3\\nvalue = [0, 0, 0, 3, 0, 0]\\nclass = 6'),\n",
       " Text(531.127478753541, 735.4588235294118, 'sulphates <= 0.48\\ngini = 0.408\\nsamples = 7\\nvalue = [0, 0, 5, 2, 0, 0]\\nclass = 5'),\n",
       " Text(522.6968838526911, 671.5058823529412, 'gini = 0.0\\nsamples = 5\\nvalue = [0, 0, 5, 0, 0, 0]\\nclass = 5'),\n",
       " Text(539.5580736543909, 671.5058823529412, 'gini = 0.0\\nsamples = 2\\nvalue = [0, 0, 0, 2, 0, 0]\\nclass = 6'),\n",
       " Text(522.6968838526911, 863.364705882353, 'gini = 0.0\\nsamples = 19\\nvalue = [0, 0, 19, 0, 0, 0]\\nclass = 5'),\n",
       " Text(837.4939801699717, 927.3176470588236, 'sulphates <= 0.705\\ngini = 0.638\\nsamples = 209\\nvalue = [0, 2, 48, 107, 45, 7]\\nclass = 6'),\n",
       " Text(679.3873937677054, 863.364705882353, 'citric acid <= 0.745\\ngini = 0.53\\nsamples = 100\\nvalue = [0, 2, 23, 64, 8, 3]\\nclass = 6'),\n",
       " Text(670.9567988668555, 799.4117647058824, 'pH <= 3.485\\ngini = 0.513\\nsamples = 98\\nvalue = [0, 2, 23, 64, 6, 3]\\nclass = 6'),\n",
       " Text(588.4291784702549, 735.4588235294118, 'pH <= 3.055\\ngini = 0.45\\nsamples = 83\\nvalue = [0, 1, 17, 59, 3, 3]\\nclass = 6'),\n",
       " Text(556.4192634560907, 671.5058823529412, 'sulphates <= 0.63\\ngini = 0.375\\nsamples = 4\\nvalue = [0, 0, 3, 1, 0, 0]\\nclass = 5'),\n",
       " Text(547.9886685552408, 607.5529411764707, 'gini = 0.0\\nsamples = 3\\nvalue = [0, 0, 3, 0, 0, 0]\\nclass = 5'),\n",
       " Text(564.8498583569404, 607.5529411764707, 'gini = 0.0\\nsamples = 1\\nvalue = [0, 0, 0, 1, 0, 0]\\nclass = 6'),\n",
       " Text(620.4390934844192, 671.5058823529412, 'free sulfur dioxide <= 5.5\\ngini = 0.427\\nsamples = 79\\nvalue = [0, 1, 14, 58, 3, 3]\\nclass = 6'),\n",
       " Text(581.7110481586402, 607.5529411764707, 'density <= 0.998\\ngini = 0.656\\nsamples = 8\\nvalue = [0, 0, 3, 3, 0, 2]\\nclass = 5'),\n",
       " Text(573.2804532577903, 543.6, 'alcohol <= 10.9\\ngini = 0.48\\nsamples = 5\\nvalue = [0, 0, 0, 3, 0, 2]\\nclass = 6'),\n",
       " Text(564.8498583569404, 479.6470588235295, 'gini = 0.0\\nsamples = 3\\nvalue = [0, 0, 0, 3, 0, 0]\\nclass = 6'),\n",
       " Text(581.7110481586402, 479.6470588235295, 'gini = 0.0\\nsamples = 2\\nvalue = [0, 0, 0, 0, 0, 2]\\nclass = 8'),\n",
       " Text(590.1416430594901, 543.6, 'gini = 0.0\\nsamples = 3\\nvalue = [0, 0, 3, 0, 0, 0]\\nclass = 5'),\n",
       " Text(659.1671388101983, 607.5529411764707, 'pH <= 3.385\\ngini = 0.374\\nsamples = 71\\nvalue = [0, 1, 11, 55, 3, 1]\\nclass = 6'),\n",
       " Text(607.0028328611897, 543.6, 'residual sugar <= 4.65\\ngini = 0.324\\nsamples = 54\\nvalue = [0, 1, 5, 44, 3, 1]\\nclass = 6'),\n",
       " Text(598.5722379603399, 479.6470588235295, 'citric acid <= 0.035\\ngini = 0.298\\nsamples = 53\\nvalue = [0, 1, 5, 44, 3, 0]\\nclass = 6'),\n",
       " Text(590.1416430594901, 415.6941176470589, 'gini = 0.0\\nsamples = 1\\nvalue = [0, 0, 1, 0, 0, 0]\\nclass = 5'),\n",
       " Text(607.0028328611897, 415.6941176470589, 'density <= 1.0\\ngini = 0.274\\nsamples = 52\\nvalue = [0, 1, 4, 44, 3, 0]\\nclass = 6'),\n",
       " Text(570.1189801699717, 351.74117647058824, 'citric acid <= 0.305\\ngini = 0.228\\nsamples = 48\\nvalue = [0, 1, 3, 42, 2, 0]\\nclass = 6'),\n",
       " Text(542.7195467422096, 287.7882352941177, 'alcohol <= 10.95\\ngini = 0.08\\nsamples = 24\\nvalue = [0, 0, 1, 23, 0, 0]\\nclass = 6'),\n",
       " Text(534.2889518413598, 223.8352941176471, 'gini = 0.0\\nsamples = 23\\nvalue = [0, 0, 0, 23, 0, 0]\\nclass = 6'),\n",
       " Text(551.1501416430594, 223.8352941176471, 'gini = 0.0\\nsamples = 1\\nvalue = [0, 0, 1, 0, 0, 0]\\nclass = 5'),\n",
       " Text(597.5184135977337, 287.7882352941177, 'alcohol <= 10.45\\ngini = 0.358\\nsamples = 24\\nvalue = [0, 1, 2, 19, 2, 0]\\nclass = 6'),\n",
       " Text(568.0113314447592, 223.8352941176471, 'sulphates <= 0.605\\ngini = 0.75\\nsamples = 4\\nvalue = [0, 1, 1, 1, 1, 0]\\nclass = 4'),\n",
       " Text(559.5807365439093, 159.88235294117646, 'gini = 0.0\\nsamples = 1\\nvalue = [0, 1, 0, 0, 0, 0]\\nclass = 4'),\n",
       " Text(576.4419263456091, 159.88235294117646, 'alcohol <= 10.05\\ngini = 0.667\\nsamples = 3\\nvalue = [0, 0, 1, 1, 1, 0]\\nclass = 5'),\n",
       " Text(568.0113314447592, 95.92941176470595, 'gini = 0.0\\nsamples = 1\\nvalue = [0, 0, 0, 0, 1, 0]\\nclass = 7'),\n",
       " Text(584.8725212464589, 95.92941176470595, 'residual sugar <= 2.15\\ngini = 0.5\\nsamples = 2\\nvalue = [0, 0, 1, 1, 0, 0]\\nclass = 5'),\n",
       " Text(576.4419263456091, 31.976470588235316, 'gini = 0.0\\nsamples = 1\\nvalue = [0, 0, 0, 1, 0, 0]\\nclass = 6'),\n",
       " Text(593.3031161473087, 31.976470588235316, 'gini = 0.0\\nsamples = 1\\nvalue = [0, 0, 1, 0, 0, 0]\\nclass = 5'),\n",
       " Text(627.0254957507082, 223.8352941176471, 'volatile acidity <= 0.3\\ngini = 0.185\\nsamples = 20\\nvalue = [0, 0, 1, 18, 1, 0]\\nclass = 6'),\n",
       " Text(610.1643059490085, 159.88235294117646, 'pH <= 3.215\\ngini = 0.5\\nsamples = 2\\nvalue = [0, 0, 1, 1, 0, 0]\\nclass = 5'),\n",
       " Text(601.7337110481586, 95.92941176470595, 'gini = 0.0\\nsamples = 1\\nvalue = [0, 0, 1, 0, 0, 0]\\nclass = 5'),\n",
       " Text(618.5949008498583, 95.92941176470595, 'gini = 0.0\\nsamples = 1\\nvalue = [0, 0, 0, 1, 0, 0]\\nclass = 6'),\n",
       " Text(643.8866855524079, 159.88235294117646, 'density <= 0.996\\ngini = 0.105\\nsamples = 18\\nvalue = [0, 0, 0, 17, 1, 0]\\nclass = 6'),\n",
       " Text(635.456090651558, 95.92941176470595, 'alcohol <= 12.05\\ngini = 0.5\\nsamples = 2\\nvalue = [0, 0, 0, 1, 1, 0]\\nclass = 6'),\n",
       " Text(627.0254957507082, 31.976470588235316, 'gini = 0.0\\nsamples = 1\\nvalue = [0, 0, 0, 0, 1, 0]\\nclass = 7'),\n",
       " Text(643.8866855524079, 31.976470588235316, 'gini = 0.0\\nsamples = 1\\nvalue = [0, 0, 0, 1, 0, 0]\\nclass = 6'),\n",
       " Text(652.3172804532578, 95.92941176470595, 'gini = 0.0\\nsamples = 16\\nvalue = [0, 0, 0, 16, 0, 0]\\nclass = 6'),\n",
       " Text(643.8866855524079, 351.74117647058824, 'residual sugar <= 2.8\\ngini = 0.625\\nsamples = 4\\nvalue = [0, 0, 1, 2, 1, 0]\\nclass = 6'),\n",
       " Text(635.456090651558, 287.7882352941177, 'gini = 0.0\\nsamples = 2\\nvalue = [0, 0, 0, 2, 0, 0]\\nclass = 6'),\n",
       " Text(652.3172804532578, 287.7882352941177, 'chlorides <= 0.098\\ngini = 0.5\\nsamples = 2\\nvalue = [0, 0, 1, 0, 1, 0]\\nclass = 5'),\n",
       " Text(643.8866855524079, 223.8352941176471, 'gini = 0.0\\nsamples = 1\\nvalue = [0, 0, 0, 0, 1, 0]\\nclass = 7'),\n",
       " Text(660.7478753541076, 223.8352941176471, 'gini = 0.0\\nsamples = 1\\nvalue = [0, 0, 1, 0, 0, 0]\\nclass = 5'),\n",
       " Text(615.4334277620396, 479.6470588235295, 'gini = 0.0\\nsamples = 1\\nvalue = [0, 0, 0, 0, 0, 1]\\nclass = 8'),\n",
       " Text(711.3314447592068, 543.6, 'volatile acidity <= 0.695\\ngini = 0.457\\nsamples = 17\\nvalue = [0, 0, 6, 11, 0, 0]\\nclass = 6'),\n",
       " Text(702.9008498583569, 479.6470588235295, 'total sulfur dioxide <= 53.5\\ngini = 0.391\\nsamples = 15\\nvalue = [0, 0, 4, 11, 0, 0]\\nclass = 6'),\n",
       " Text(686.0396600566572, 415.6941176470589, 'pH <= 3.415\\ngini = 0.165\\nsamples = 11\\nvalue = [0, 0, 1, 10, 0, 0]\\nclass = 6'),\n",
       " Text(677.6090651558073, 351.74117647058824, 'citric acid <= 0.215\\ngini = 0.444\\nsamples = 3\\nvalue = [0, 0, 1, 2, 0, 0]\\nclass = 6'),\n",
       " Text(669.1784702549575, 287.7882352941177, 'gini = 0.0\\nsamples = 1\\nvalue = [0, 0, 1, 0, 0, 0]\\nclass = 5'),\n",
       " Text(686.0396600566572, 287.7882352941177, 'gini = 0.0\\nsamples = 2\\nvalue = [0, 0, 0, 2, 0, 0]\\nclass = 6'),\n",
       " Text(694.470254957507, 351.74117647058824, 'gini = 0.0\\nsamples = 8\\nvalue = [0, 0, 0, 8, 0, 0]\\nclass = 6'),\n",
       " Text(719.7620396600566, 415.6941176470589, 'chlorides <= 0.062\\ngini = 0.375\\nsamples = 4\\nvalue = [0, 0, 3, 1, 0, 0]\\nclass = 5'),\n",
       " Text(711.3314447592068, 351.74117647058824, 'gini = 0.0\\nsamples = 1\\nvalue = [0, 0, 0, 1, 0, 0]\\nclass = 6'),\n",
       " Text(728.1926345609065, 351.74117647058824, 'gini = 0.0\\nsamples = 3\\nvalue = [0, 0, 3, 0, 0, 0]\\nclass = 5'),\n",
       " Text(719.7620396600566, 479.6470588235295, 'gini = 0.0\\nsamples = 2\\nvalue = [0, 0, 2, 0, 0, 0]\\nclass = 5'),\n",
       " Text(753.4844192634561, 735.4588235294118, 'sulphates <= 0.625\\ngini = 0.684\\nsamples = 15\\nvalue = [0, 1, 6, 5, 3, 0]\\nclass = 5'),\n",
       " Text(745.0538243626062, 671.5058823529412, 'free sulfur dioxide <= 18.0\\ngini = 0.568\\nsamples = 9\\nvalue = [0, 1, 0, 5, 3, 0]\\nclass = 6'),\n",
       " Text(736.6232294617563, 607.5529411764707, 'pH <= 3.875\\ngini = 0.278\\nsamples = 6\\nvalue = [0, 1, 0, 5, 0, 0]\\nclass = 6'),\n",
       " Text(728.1926345609065, 543.6, 'gini = 0.0\\nsamples = 5\\nvalue = [0, 0, 0, 5, 0, 0]\\nclass = 6'),\n",
       " Text(745.0538243626062, 543.6, 'gini = 0.0\\nsamples = 1\\nvalue = [0, 1, 0, 0, 0, 0]\\nclass = 4'),\n",
       " Text(753.4844192634561, 607.5529411764707, 'gini = 0.0\\nsamples = 3\\nvalue = [0, 0, 0, 0, 3, 0]\\nclass = 7'),\n",
       " Text(761.915014164306, 671.5058823529412, 'gini = 0.0\\nsamples = 6\\nvalue = [0, 0, 6, 0, 0, 0]\\nclass = 5'),\n",
       " Text(687.8179886685552, 799.4117647058824, 'gini = 0.0\\nsamples = 2\\nvalue = [0, 0, 0, 0, 2, 0]\\nclass = 7'),\n",
       " Text(995.6005665722379, 863.364705882353, 'sulphates <= 0.925\\ngini = 0.675\\nsamples = 109\\nvalue = [0, 0, 25, 43, 37, 4]\\nclass = 6'),\n",
       " Text(917.3541076487252, 799.4117647058824, 'total sulfur dioxide <= 62.0\\ngini = 0.687\\nsamples = 88\\nvalue = [0, 0, 24, 26, 34, 4]\\nclass = 7'),\n",
       " Text(836.7365439093484, 735.4588235294118, 'alcohol <= 10.45\\ngini = 0.632\\nsamples = 62\\nvalue = [0, 0, 8, 21, 30, 3]\\nclass = 7'),\n",
       " Text(787.2067988668555, 671.5058823529412, 'free sulfur dioxide <= 10.5\\ngini = 0.521\\nsamples = 19\\nvalue = [0, 0, 2, 12, 5, 0]\\nclass = 6'),\n",
       " Text(770.3456090651558, 607.5529411764707, 'pH <= 3.23\\ngini = 0.531\\nsamples = 8\\nvalue = [0, 0, 1, 2, 5, 0]\\nclass = 7'),\n",
       " Text(761.915014164306, 543.6, 'sulphates <= 0.86\\ngini = 0.278\\nsamples = 6\\nvalue = [0, 0, 1, 0, 5, 0]\\nclass = 7'),\n",
       " Text(753.4844192634561, 479.6470588235295, 'gini = 0.0\\nsamples = 5\\nvalue = [0, 0, 0, 0, 5, 0]\\nclass = 7'),\n",
       " Text(770.3456090651558, 479.6470588235295, 'gini = 0.0\\nsamples = 1\\nvalue = [0, 0, 1, 0, 0, 0]\\nclass = 5'),\n",
       " Text(778.7762039660056, 543.6, 'gini = 0.0\\nsamples = 2\\nvalue = [0, 0, 0, 2, 0, 0]\\nclass = 6'),\n",
       " Text(804.0679886685552, 607.5529411764707, 'chlorides <= 0.091\\ngini = 0.165\\nsamples = 11\\nvalue = [0, 0, 1, 10, 0, 0]\\nclass = 6'),\n",
       " Text(795.6373937677054, 543.6, 'gini = 0.0\\nsamples = 10\\nvalue = [0, 0, 0, 10, 0, 0]\\nclass = 6'),\n",
       " Text(812.498583569405, 543.6, 'gini = 0.0\\nsamples = 1\\nvalue = [0, 0, 1, 0, 0, 0]\\nclass = 5'),\n",
       " Text(886.2662889518414, 671.5058823529412, 'pH <= 3.33\\ngini = 0.594\\nsamples = 43\\nvalue = [0, 0, 6, 9, 25, 3]\\nclass = 7'),\n",
       " Text(858.8668555240793, 607.5529411764707, 'citric acid <= 0.615\\ngini = 0.678\\nsamples = 30\\nvalue = [0, 0, 6, 9, 13, 2]\\nclass = 7'),\n",
       " Text(829.3597733711048, 543.6, 'volatile acidity <= 0.415\\ngini = 0.711\\nsamples = 22\\nvalue = [0, 0, 6, 8, 6, 2]\\nclass = 6'),\n",
       " Text(795.6373937677054, 479.6470588235295, 'total sulfur dioxide <= 18.5\\ngini = 0.678\\nsamples = 11\\nvalue = [0, 0, 3, 1, 5, 2]\\nclass = 7'),\n",
       " Text(778.7762039660056, 415.6941176470589, 'alcohol <= 11.15\\ngini = 0.5\\nsamples = 4\\nvalue = [0, 0, 2, 0, 0, 2]\\nclass = 5'),\n",
       " Text(770.3456090651558, 351.74117647058824, 'gini = 0.0\\nsamples = 2\\nvalue = [0, 0, 2, 0, 0, 0]\\nclass = 5'),\n",
       " Text(787.2067988668555, 351.74117647058824, 'gini = 0.0\\nsamples = 2\\nvalue = [0, 0, 0, 0, 0, 2]\\nclass = 8'),\n",
       " Text(812.498583569405, 415.6941176470589, 'density <= 0.999\\ngini = 0.449\\nsamples = 7\\nvalue = [0, 0, 1, 1, 5, 0]\\nclass = 7'),\n",
       " Text(804.0679886685552, 351.74117647058824, 'gini = 0.0\\nsamples = 5\\nvalue = [0, 0, 0, 0, 5, 0]\\nclass = 7'),\n",
       " Text(820.9291784702549, 351.74117647058824, 'citric acid <= 0.54\\ngini = 0.5\\nsamples = 2\\nvalue = [0, 0, 1, 1, 0, 0]\\nclass = 5'),\n",
       " Text(812.498583569405, 287.7882352941177, 'gini = 0.0\\nsamples = 1\\nvalue = [0, 0, 1, 0, 0, 0]\\nclass = 5'),\n",
       " Text(829.3597733711048, 287.7882352941177, 'gini = 0.0\\nsamples = 1\\nvalue = [0, 0, 0, 1, 0, 0]\\nclass = 6'),\n",
       " Text(863.0821529745042, 479.6470588235295, 'residual sugar <= 3.05\\ngini = 0.512\\nsamples = 11\\nvalue = [0, 0, 3, 7, 1, 0]\\nclass = 6'),\n",
       " Text(846.2209631728045, 415.6941176470589, 'pH <= 3.1\\ngini = 0.346\\nsamples = 9\\nvalue = [0, 0, 2, 7, 0, 0]\\nclass = 6'),\n",
       " Text(837.7903682719547, 351.74117647058824, 'gini = 0.0\\nsamples = 1\\nvalue = [0, 0, 1, 0, 0, 0]\\nclass = 5'),\n",
       " Text(854.6515580736543, 351.74117647058824, 'total sulfur dioxide <= 17.0\\ngini = 0.219\\nsamples = 8\\nvalue = [0, 0, 1, 7, 0, 0]\\nclass = 6'),\n",
       " Text(846.2209631728045, 287.7882352941177, 'pH <= 3.215\\ngini = 0.5\\nsamples = 2\\nvalue = [0, 0, 1, 1, 0, 0]\\nclass = 5'),\n",
       " Text(837.7903682719547, 223.8352941176471, 'gini = 0.0\\nsamples = 1\\nvalue = [0, 0, 0, 1, 0, 0]\\nclass = 6'),\n",
       " Text(854.6515580736543, 223.8352941176471, 'gini = 0.0\\nsamples = 1\\nvalue = [0, 0, 1, 0, 0, 0]\\nclass = 5'),\n",
       " Text(863.0821529745042, 287.7882352941177, 'gini = 0.0\\nsamples = 6\\nvalue = [0, 0, 0, 6, 0, 0]\\nclass = 6'),\n",
       " Text(879.943342776204, 415.6941176470589, 'free sulfur dioxide <= 6.0\\ngini = 0.5\\nsamples = 2\\nvalue = [0, 0, 1, 0, 1, 0]\\nclass = 5'),\n",
       " Text(871.5127478753541, 351.74117647058824, 'gini = 0.0\\nsamples = 1\\nvalue = [0, 0, 1, 0, 0, 0]\\nclass = 5'),\n",
       " Text(888.3739376770537, 351.74117647058824, 'gini = 0.0\\nsamples = 1\\nvalue = [0, 0, 0, 0, 1, 0]\\nclass = 7'),\n",
       " Text(888.3739376770537, 543.6, 'total sulfur dioxide <= 38.0\\ngini = 0.219\\nsamples = 8\\nvalue = [0, 0, 0, 1, 7, 0]\\nclass = 7'),\n",
       " Text(879.943342776204, 479.6470588235295, 'gini = 0.0\\nsamples = 7\\nvalue = [0, 0, 0, 0, 7, 0]\\nclass = 7'),\n",
       " Text(896.8045325779036, 479.6470588235295, 'gini = 0.0\\nsamples = 1\\nvalue = [0, 0, 0, 1, 0, 0]\\nclass = 6'),\n",
       " Text(913.6657223796034, 607.5529411764707, 'alcohol <= 12.65\\ngini = 0.142\\nsamples = 13\\nvalue = [0, 0, 0, 0, 12, 1]\\nclass = 7'),\n",
       " Text(905.2351274787535, 543.6, 'gini = 0.0\\nsamples = 11\\nvalue = [0, 0, 0, 0, 11, 0]\\nclass = 7'),\n",
       " Text(922.0963172804533, 543.6, 'residual sugar <= 3.05\\ngini = 0.5\\nsamples = 2\\nvalue = [0, 0, 0, 0, 1, 1]\\nclass = 7'),\n",
       " Text(913.6657223796034, 479.6470588235295, 'gini = 0.0\\nsamples = 1\\nvalue = [0, 0, 0, 0, 1, 0]\\nclass = 7'),\n",
       " Text(930.526912181303, 479.6470588235295, 'gini = 0.0\\nsamples = 1\\nvalue = [0, 0, 0, 0, 0, 1]\\nclass = 8'),\n",
       " Text(997.971671388102, 735.4588235294118, 'alcohol <= 11.35\\ngini = 0.559\\nsamples = 26\\nvalue = [0, 0, 16, 5, 4, 1]\\nclass = 5'),\n",
       " Text(964.2492917847025, 671.5058823529412, 'volatile acidity <= 0.33\\ngini = 0.29\\nsamples = 18\\nvalue = [0, 0, 15, 1, 2, 0]\\nclass = 5'),\n",
       " Text(947.3881019830028, 607.5529411764707, 'chlorides <= 0.078\\ngini = 0.444\\nsamples = 3\\nvalue = [0, 0, 1, 0, 2, 0]\\nclass = 7'),\n",
       " Text(938.9575070821529, 543.6, 'gini = 0.0\\nsamples = 1\\nvalue = [0, 0, 1, 0, 0, 0]\\nclass = 5'),\n",
       " Text(955.8186968838527, 543.6, 'gini = 0.0\\nsamples = 2\\nvalue = [0, 0, 0, 0, 2, 0]\\nclass = 7'),\n",
       " Text(981.1104815864022, 607.5529411764707, 'chlorides <= 0.082\\ngini = 0.124\\nsamples = 15\\nvalue = [0, 0, 14, 1, 0, 0]\\nclass = 5'),\n",
       " Text(972.6798866855523, 543.6, 'gini = 0.0\\nsamples = 13\\nvalue = [0, 0, 13, 0, 0, 0]\\nclass = 5'),\n",
       " Text(989.5410764872521, 543.6, 'volatile acidity <= 0.355\\ngini = 0.5\\nsamples = 2\\nvalue = [0, 0, 1, 1, 0, 0]\\nclass = 5'),\n",
       " Text(981.1104815864022, 479.6470588235295, 'gini = 0.0\\nsamples = 1\\nvalue = [0, 0, 1, 0, 0, 0]\\nclass = 5'),\n",
       " Text(997.971671388102, 479.6470588235295, 'gini = 0.0\\nsamples = 1\\nvalue = [0, 0, 0, 1, 0, 0]\\nclass = 6'),\n",
       " Text(1031.6940509915014, 671.5058823529412, 'residual sugar <= 1.6\\ngini = 0.656\\nsamples = 8\\nvalue = [0, 0, 1, 4, 2, 1]\\nclass = 6'),\n",
       " Text(1014.8328611898016, 607.5529411764707, 'free sulfur dioxide <= 12.5\\ngini = 0.5\\nsamples = 2\\nvalue = [0, 0, 0, 0, 1, 1]\\nclass = 7'),\n",
       " Text(1006.4022662889518, 543.6, 'gini = 0.0\\nsamples = 1\\nvalue = [0, 0, 0, 0, 0, 1]\\nclass = 8'),\n",
       " Text(1023.2634560906515, 543.6, 'gini = 0.0\\nsamples = 1\\nvalue = [0, 0, 0, 0, 1, 0]\\nclass = 7'),\n",
       " Text(1048.5552407932012, 607.5529411764707, 'fixed acidity <= 9.1\\ngini = 0.5\\nsamples = 6\\nvalue = [0, 0, 1, 4, 1, 0]\\nclass = 6'),\n",
       " Text(1040.1246458923513, 543.6, 'gini = 0.0\\nsamples = 4\\nvalue = [0, 0, 0, 4, 0, 0]\\nclass = 6'),\n",
       " Text(1056.985835694051, 543.6, 'volatile acidity <= 0.545\\ngini = 0.5\\nsamples = 2\\nvalue = [0, 0, 1, 0, 1, 0]\\nclass = 5'),\n",
       " Text(1048.5552407932012, 479.6470588235295, 'gini = 0.0\\nsamples = 1\\nvalue = [0, 0, 1, 0, 0, 0]\\nclass = 5'),\n",
       " Text(1065.4164305949007, 479.6470588235295, 'gini = 0.0\\nsamples = 1\\nvalue = [0, 0, 0, 0, 1, 0]\\nclass = 7'),\n",
       " Text(1073.8470254957506, 799.4117647058824, 'total sulfur dioxide <= 18.5\\ngini = 0.322\\nsamples = 21\\nvalue = [0, 0, 1, 17, 3, 0]\\nclass = 6'),\n",
       " Text(1056.985835694051, 735.4588235294118, 'density <= 0.998\\ngini = 0.375\\nsamples = 4\\nvalue = [0, 0, 0, 1, 3, 0]\\nclass = 7'),\n",
       " Text(1048.5552407932012, 671.5058823529412, 'gini = 0.0\\nsamples = 3\\nvalue = [0, 0, 0, 0, 3, 0]\\nclass = 7'),\n",
       " Text(1065.4164305949007, 671.5058823529412, 'gini = 0.0\\nsamples = 1\\nvalue = [0, 0, 0, 1, 0, 0]\\nclass = 6'),\n",
       " Text(1090.7082152974504, 735.4588235294118, 'sulphates <= 1.155\\ngini = 0.111\\nsamples = 17\\nvalue = [0, 0, 1, 16, 0, 0]\\nclass = 6'),\n",
       " Text(1082.2776203966005, 671.5058823529412, 'gini = 0.0\\nsamples = 14\\nvalue = [0, 0, 0, 14, 0, 0]\\nclass = 6'),\n",
       " Text(1099.1388101983002, 671.5058823529412, 'volatile acidity <= 0.575\\ngini = 0.444\\nsamples = 3\\nvalue = [0, 0, 1, 2, 0, 0]\\nclass = 6'),\n",
       " Text(1090.7082152974504, 607.5529411764707, 'gini = 0.0\\nsamples = 2\\nvalue = [0, 0, 0, 2, 0, 0]\\nclass = 6'),\n",
       " Text(1107.5694050991501, 607.5529411764707, 'gini = 0.0\\nsamples = 1\\nvalue = [0, 0, 1, 0, 0, 0]\\nclass = 5')]"
      ]
     },
     "execution_count": 16,
     "metadata": {},
     "output_type": "execute_result"
    },
    {
     "data": {
      "image/png": "[encoded data removed]",
      "text/plain": [
       "<Figure size 1440x1440 with 1 Axes>"
      ]
     },
     "metadata": {
      "needs_background": "light"
     },
     "output_type": "display_data"
    }
   ],
   "source": [
    "plt.figure(figsize=(20,20))\n",
    "tree.plot_tree(dt_model_1,filled=True, class_names=[str(i) for i in set(y1)], feature_names = x1.columns)"
   ]
  },
  {
   "cell_type": "markdown",
   "id": "5d067476",
   "metadata": {},
   "source": [
    "plt.figure(figsize=(20,20))\n",
    "tree.plot_tree(dt_model_1, filled =True, class_names = [str(i)for i in set(y1)], feature_names = x1.columns)"
   ]
  },
  {
   "cell_type": "code",
   "execution_count": 80,
   "id": "15f3cf39",
   "metadata": {},
   "outputs": [
    {
     "data": {
      "text/plain": [
       "1.0"
      ]
     },
     "execution_count": 80,
     "metadata": {},
     "output_type": "execute_result"
    }
   ],
   "source": [
    "dt_model_1.predict(x1)\n",
    "dt_model_1.score(x1,y1)"
   ]
  },
  {
   "cell_type": "code",
   "execution_count": 81,
   "id": "6915d313",
   "metadata": {},
   "outputs": [
    {
     "data": {
      "text/plain": [
       "0.585"
      ]
     },
     "execution_count": 81,
     "metadata": {},
     "output_type": "execute_result"
    }
   ],
   "source": [
    "dt_model_1.score(x_test,y_test)"
   ]
  },
  {
   "cell_type": "code",
   "execution_count": 82,
   "id": "6e6fd573",
   "metadata": {},
   "outputs": [
    {
     "data": {
      "text/plain": [
       "array([0.        , 0.00175   , 0.00181818, 0.00184615, 0.00185   ,\n",
       "       0.00188235, 0.00192308, 0.002     , 0.002     , 0.002     ,\n",
       "       0.002     , 0.002     , 0.002     , 0.002     , 0.002     ,\n",
       "       0.002     , 0.00247552, 0.00261111, 0.00262769, 0.00266667,\n",
       "       0.00266667, 0.00266667, 0.00266667, 0.00266667, 0.00266667,\n",
       "       0.00266667, 0.00266667, 0.00272222, 0.00283333, 0.003     ,\n",
       "       0.003     , 0.003     , 0.003     , 0.00304762, 0.00305051,\n",
       "       0.00308418, 0.00328205, 0.00333333, 0.00333333, 0.00334032,\n",
       "       0.00336606, 0.00342857, 0.00343316, 0.0035    , 0.0035    ,\n",
       "       0.0036    , 0.00363636, 0.00373333, 0.00373809, 0.0038    ,\n",
       "       0.0038237 , 0.004     , 0.00404444, 0.00428571, 0.00437662,\n",
       "       0.00462338, 0.00465709, 0.00466667, 0.0048    , 0.00495726,\n",
       "       0.00504242, 0.00508235, 0.00509091, 0.00510606, 0.00516667,\n",
       "       0.00568485, 0.00589394, 0.00656364, 0.00671079, 0.0067591 ,\n",
       "       0.00688352, 0.00688889, 0.007     , 0.00701299, 0.00706234,\n",
       "       0.00725171, 0.00759048, 0.00771182, 0.00786235, 0.00813248,\n",
       "       0.00858654, 0.01285167, 0.01310242, 0.01335452, 0.01789286,\n",
       "       0.02414791, 0.04600728])"
      ]
     },
     "execution_count": 82,
     "metadata": {},
     "output_type": "execute_result"
    }
   ],
   "source": [
    "path = dt_model_1.cost_complexity_pruning_path(x1,y1)\n",
    "ccp_alpha = path.ccp_alphas\n",
    "ccp_alpha"
   ]
  },
  {
   "cell_type": "code",
   "execution_count": 83,
   "id": "b2c8a877",
   "metadata": {},
   "outputs": [],
   "source": [
    "dt_model_2 = []\n",
    "for ccp in ccp_alpha:\n",
    "    dt_m = DecisionTreeClassifier(ccp_alpha=ccp)\n",
    "    dt_m.fit(x1,y1)\n",
    "    dt_model_2.append(dt_m)"
   ]
  },
  {
   "cell_type": "code",
   "execution_count": 84,
   "id": "378976ce",
   "metadata": {},
   "outputs": [
    {
     "data": {
      "text/plain": [
       "Text(0, 0.5, 'score')"
      ]
     },
     "execution_count": 84,
     "metadata": {},
     "output_type": "execute_result"
    },
    {
     "data": {
      "image/png": "[encoded data removed]",
      "text/plain": [
       "<Figure size 432x288 with 1 Axes>"
      ]
     },
     "metadata": {
      "needs_background": "light"
     },
     "output_type": "display_data"
    }
   ],
   "source": [
    "dt_model_2 = []\n",
    "score = []\n",
    "for i in ccp_alpha:\n",
    "    dt_m = DecisionTreeClassifier(ccp_alpha=i)\n",
    "    dt_m.fit(x1,y1)\n",
    "    dt_model_2.append(dt_m)\n",
    "    score.append(dt_m.score(x_test,y_test))\n",
    "    \n",
    "plt.plot(score, 'r-+')\n",
    "plt.xlabel('iteration')\n",
    "plt.ylabel('score')"
   ]
  },
  {
   "cell_type": "code",
   "execution_count": 85,
   "id": "ce5fb9e1",
   "metadata": {},
   "outputs": [],
   "source": [
    "train_score = [i.score(x1,y1) for i in dt_model_2]"
   ]
  },
  {
   "cell_type": "code",
   "execution_count": 86,
   "id": "e311ae9e",
   "metadata": {},
   "outputs": [],
   "source": [
    "test_score = [i.score(x_test,y_test) for i in dt_model_2]"
   ]
  },
  {
   "cell_type": "code",
   "execution_count": 87,
   "id": "c8ddf4c2",
   "metadata": {},
   "outputs": [
    {
     "data": {
      "image/png": "[encoded data removed]",
      "text/plain": [
       "<Figure size 432x288 with 1 Axes>"
      ]
     },
     "metadata": {
      "needs_background": "light"
     },
     "output_type": "display_data"
    }
   ],
   "source": [
    "fig, ax = plt.subplots()\n",
    "ax.set_xlabel = ('alpha')\n",
    "ax.set_ylabel = ('Accuracy')\n",
    "ax.set_title = ('Accuracy vs alpha for training and test sets')\n",
    "ax.plot(ccp_alpha, train_score, marker = 'o', label = 'train', drawstyle=\"steps-post\")\n",
    "ax.plot(ccp_alpha, test_score, marker = 'o', label = 'test',drawstyle=\"steps-post\")\n",
    "ax.legend()\n",
    "plt.show()"
   ]
  },
  {
   "cell_type": "code",
   "execution_count": 88,
   "id": "20a66bc6",
   "metadata": {},
   "outputs": [
    {
     "data": {
      "text/plain": [
       "DecisionTreeClassifier(ccp_alpha=0.14)"
      ]
     },
     "execution_count": 88,
     "metadata": {},
     "output_type": "execute_result"
    }
   ],
   "source": [
    "dt_model_ccp = DecisionTreeClassifier(ccp_alpha=0.14)\n",
    "dt_model_ccp.fit(x1,y1)"
   ]
  },
  {
   "cell_type": "code",
   "execution_count": 89,
   "id": "f1d86179",
   "metadata": {},
   "outputs": [
    {
     "data": {
      "text/plain": [
       "0.478"
      ]
     },
     "execution_count": 89,
     "metadata": {},
     "output_type": "execute_result"
    }
   ],
   "source": [
    "dt_model_ccp.score(x1,y1)"
   ]
  },
  {
   "cell_type": "code",
   "execution_count": 90,
   "id": "63f62bde",
   "metadata": {},
   "outputs": [],
   "source": [
    "grid_param = {\"criterion\" : ['gini', 'entropy'],\n",
    "              \"splitter\": ['best', 'random'],\n",
    "              \"max_depth\" : range(2,40,1),\n",
    "              \"min_samples_split\": range(2,10,1),\n",
    "              \"min_samples_leaf\": range(1,10,1)\n",
    "}"
   ]
  },
  {
   "cell_type": "code",
   "execution_count": 91,
   "id": "8c19f09a",
   "metadata": {},
   "outputs": [],
   "source": [
    "grid_ccp = GridSearchCV(estimator=dt_model_ccp, param_grid=grid_param, cv=10,n_jobs=-1)"
   ]
  },
  {
   "cell_type": "markdown",
   "id": "e5a48af2",
   "metadata": {},
   "source": [
    "grid_ccp.fit(x1,y1)"
   ]
  },
  {
   "cell_type": "code",
   "execution_count": 92,
   "id": "90f8950c",
   "metadata": {},
   "outputs": [],
   "source": [
    "#grid_ccp.best_params_"
   ]
  },
  {
   "cell_type": "code",
   "execution_count": 93,
   "id": "5d590237",
   "metadata": {},
   "outputs": [],
   "source": [
    "dt_ccp_new = DecisionTreeClassifier(\n",
    "criterion = 'entropy', max_depth=17, min_samples_leaf=1, min_samples_split=3, splitter='random', ccp_alpha=0.014)"
   ]
  },
  {
   "cell_type": "code",
   "execution_count": 94,
   "id": "c5685526",
   "metadata": {},
   "outputs": [
    {
     "data": {
      "text/plain": [
       "DecisionTreeClassifier(ccp_alpha=0.014, criterion='entropy', max_depth=17,\n",
       "                       min_samples_split=3, splitter='random')"
      ]
     },
     "execution_count": 94,
     "metadata": {},
     "output_type": "execute_result"
    }
   ],
   "source": [
    "dt_ccp_new.fit(x1,y1)"
   ]
  },
  {
   "cell_type": "code",
   "execution_count": 95,
   "id": "7ebca4e8",
   "metadata": {},
   "outputs": [
    {
     "data": {
      "text/plain": [
       "0.646"
      ]
     },
     "execution_count": 95,
     "metadata": {},
     "output_type": "execute_result"
    }
   ],
   "source": [
    "dt_ccp_new.score(x1,y1)"
   ]
  },
  {
   "cell_type": "code",
   "execution_count": 96,
   "id": "2f94473a",
   "metadata": {},
   "outputs": [
    {
     "data": {
      "text/plain": [
       "0.5725"
      ]
     },
     "execution_count": 96,
     "metadata": {},
     "output_type": "execute_result"
    }
   ],
   "source": [
    "dt_ccp_new.score(x_test,y_test)"
   ]
  },
  {
   "cell_type": "code",
   "execution_count": 97,
   "id": "299886e2",
   "metadata": {},
   "outputs": [],
   "source": [
    "pred = dt_ccp_new.predict(x_train)"
   ]
  },
  {
   "cell_type": "code",
   "execution_count": 98,
   "id": "4dbf0fb1",
   "metadata": {},
   "outputs": [
    {
     "data": {
      "text/plain": [
       "array([[  0,   0,   5,   0,   0,   0],\n",
       "       [  0,   4,  23,  14,   0,   0],\n",
       "       [  0,   0, 346, 166,   0,   0],\n",
       "       [  0,   1, 110, 376,   0,   0],\n",
       "       [  0,   1,  15, 123,   0,   0],\n",
       "       [  0,   1,   1,  13,   0,   0]], dtype=int64)"
      ]
     },
     "execution_count": 98,
     "metadata": {},
     "output_type": "execute_result"
    }
   ],
   "source": [
    "confusion_matrix(y_train,pred)"
   ]
  },
  {
   "cell_type": "markdown",
   "id": "fe4121ea",
   "metadata": {},
   "source": [
    "# Bagging"
   ]
  },
  {
   "cell_type": "code",
   "execution_count": 99,
   "id": "397e807a",
   "metadata": {},
   "outputs": [],
   "source": [
    "df = pd.read_csv('winequality-red.csv')"
   ]
  },
  {
   "cell_type": "code",
   "execution_count": 100,
   "id": "d905dbdf",
   "metadata": {},
   "outputs": [],
   "source": [
    "x = df.drop(columns='quality')\n",
    "y = df.quality\n",
    "x_train, x_test, y_train, y_test = train_test_split (x,y,test_size=0.25, random_state=300)"
   ]
  },
  {
   "cell_type": "code",
   "execution_count": 101,
   "id": "d2c299b2",
   "metadata": {},
   "outputs": [],
   "source": [
    "from sklearn.ensemble import BaggingClassifier"
   ]
  },
  {
   "cell_type": "code",
   "execution_count": 102,
   "id": "e87ba5a4",
   "metadata": {},
   "outputs": [],
   "source": [
    "bag_dt = BaggingClassifier(DecisionTreeClassifier(), n_estimators=100)"
   ]
  },
  {
   "cell_type": "code",
   "execution_count": 103,
   "id": "30c3ef7d",
   "metadata": {},
   "outputs": [
    {
     "data": {
      "text/plain": [
       "BaggingClassifier(base_estimator=DecisionTreeClassifier(), n_estimators=100)"
      ]
     },
     "execution_count": 103,
     "metadata": {},
     "output_type": "execute_result"
    }
   ],
   "source": [
    "bag_dt.fit(x_train,y_train)"
   ]
  },
  {
   "cell_type": "code",
   "execution_count": 104,
   "id": "a55baaea",
   "metadata": {},
   "outputs": [
    {
     "data": {
      "text/plain": [
       "array([5, 5, 5, 6, 6, 5, 6, 5, 5, 6, 5, 5, 6, 6, 5, 6, 6, 6, 4, 6, 5, 7,\n",
       "       5, 6, 6, 6, 5, 6, 6, 5, 6, 7, 6, 5, 6, 6, 5, 5, 5, 5, 5, 5, 6, 5,\n",
       "       6, 5, 5, 6, 6, 6, 6, 5, 7, 5, 5, 6, 7, 5, 6, 6, 6, 6, 6, 7, 6, 6,\n",
       "       7, 5, 5, 6, 6, 5, 6, 7, 6, 5, 6, 5, 6, 5, 5, 5, 6, 6, 6, 6, 5, 5,\n",
       "       6, 5, 6, 5, 5, 6, 5, 5, 7, 6, 5, 5, 7, 5, 6, 6, 5, 7, 5, 5, 5, 7,\n",
       "       5, 5, 5, 5, 5, 6, 7, 5, 6, 6, 6, 5, 6, 6, 6, 7, 6, 5, 6, 6, 5, 5,\n",
       "       5, 6, 6, 6, 6, 6, 5, 5, 6, 5, 6, 5, 6, 6, 6, 5, 6, 5, 5, 7, 6, 5,\n",
       "       6, 6, 6, 6, 5, 6, 5, 5, 6, 6, 5, 6, 6, 5, 7, 6, 7, 6, 6, 6, 6, 7,\n",
       "       5, 5, 5, 5, 6, 6, 6, 6, 6, 5, 6, 6, 5, 5, 5, 5, 6, 5, 6, 5, 6, 6,\n",
       "       6, 5, 6, 6, 5, 5, 7, 7, 5, 6, 6, 5, 5, 6, 7, 5, 5, 6, 6, 7, 5, 6,\n",
       "       5, 5, 5, 5, 5, 5, 5, 5, 5, 5, 5, 6, 5, 6, 6, 5, 6, 5, 6, 6, 6, 5,\n",
       "       5, 6, 7, 5, 5, 5, 5, 5, 7, 5, 6, 6, 5, 6, 6, 6, 6, 7, 6, 6, 5, 6,\n",
       "       6, 6, 6, 5, 6, 4, 5, 6, 5, 6, 6, 5, 5, 6, 5, 7, 7, 5, 5, 6, 6, 5,\n",
       "       5, 6, 6, 5, 5, 5, 6, 5, 6, 7, 5, 6, 5, 6, 5, 7, 6, 5, 6, 6, 5, 6,\n",
       "       6, 5, 6, 6, 6, 5, 5, 6, 7, 7, 6, 5, 5, 5, 6, 6, 5, 6, 5, 5, 5, 6,\n",
       "       6, 6, 5, 6, 6, 5, 6, 6, 5, 5, 5, 5, 5, 5, 6, 5, 6, 5, 7, 6, 7, 7,\n",
       "       5, 5, 5, 5, 6, 7, 6, 6, 6, 5, 6, 5, 5, 6, 5, 5, 6, 5, 7, 7, 6, 6,\n",
       "       6, 6, 6, 6, 7, 6, 5, 5, 6, 5, 6, 6, 7, 5, 6, 7, 5, 7, 6, 5, 6, 5,\n",
       "       6, 6, 7, 5], dtype=int64)"
      ]
     },
     "execution_count": 104,
     "metadata": {},
     "output_type": "execute_result"
    }
   ],
   "source": [
    "bag_dt.predict(x_test)"
   ]
  },
  {
   "cell_type": "code",
   "execution_count": 105,
   "id": "5ecf8f48",
   "metadata": {},
   "outputs": [
    {
     "data": {
      "text/plain": [
       "DecisionTreeClassifier()"
      ]
     },
     "execution_count": 105,
     "metadata": {},
     "output_type": "execute_result"
    }
   ],
   "source": [
    "bag_dt.base_estimator_"
   ]
  },
  {
   "cell_type": "code",
   "execution_count": 106,
   "id": "0898ac80",
   "metadata": {},
   "outputs": [
    {
     "data": {
      "text/plain": [
       "array([3, 4, 5, 6, 7, 8], dtype=int64)"
      ]
     },
     "execution_count": 106,
     "metadata": {},
     "output_type": "execute_result"
    }
   ],
   "source": [
    "bag_dt.classes_"
   ]
  },
  {
   "cell_type": "code",
   "execution_count": 107,
   "id": "42d905ea",
   "metadata": {},
   "outputs": [
    {
     "data": {
      "text/plain": [
       "()"
      ]
     },
     "execution_count": 107,
     "metadata": {},
     "output_type": "execute_result"
    }
   ],
   "source": [
    "bag_dt.estimator_params"
   ]
  },
  {
   "cell_type": "code",
   "execution_count": 108,
   "id": "259dead3",
   "metadata": {},
   "outputs": [],
   "source": [
    "from sklearn.neighbors import KNeighborsClassifier"
   ]
  },
  {
   "cell_type": "code",
   "execution_count": 109,
   "id": "5a34a274",
   "metadata": {},
   "outputs": [],
   "source": [
    "bag_knn = BaggingClassifier(KNeighborsClassifier(6), n_estimators=10)"
   ]
  },
  {
   "cell_type": "code",
   "execution_count": 110,
   "id": "024c3ad0",
   "metadata": {},
   "outputs": [
    {
     "data": {
      "text/plain": [
       "BaggingClassifier(base_estimator=KNeighborsClassifier(n_neighbors=6))"
      ]
     },
     "execution_count": 110,
     "metadata": {},
     "output_type": "execute_result"
    }
   ],
   "source": [
    "bag_knn.fit(x_train,y_train)"
   ]
  },
  {
   "cell_type": "code",
   "execution_count": 111,
   "id": "e014fc19",
   "metadata": {},
   "outputs": [
    {
     "data": {
      "text/plain": [
       "array([6, 6, 5, 5, 5, 6, 6, 6, 6, 6, 6, 6, 4, 6, 6, 7, 6, 6, 5, 5, 5, 6,\n",
       "       5, 5, 6, 6, 6, 5, 7, 5, 5, 7, 6, 5, 6, 5, 5, 5, 4, 5, 5, 6, 5, 6,\n",
       "       5, 5, 5, 5, 6, 6, 6, 6, 7, 5, 6, 5, 7, 4, 7, 6, 6, 5, 6, 6, 5, 6,\n",
       "       5, 5, 6, 6, 6, 5, 5, 5, 5, 5, 6, 5, 6, 6, 6, 5, 6, 5, 7, 5, 5, 6,\n",
       "       5, 6, 5, 6, 5, 7, 5, 5, 6, 5, 5, 5, 6, 5, 5, 5, 5, 6, 6, 5, 6, 5,\n",
       "       6, 6, 6, 5, 5, 6, 6, 6, 6, 5, 5, 6, 5, 6, 5, 7, 5, 5, 5, 5, 5, 5,\n",
       "       5, 5, 5, 5, 6, 6, 5, 5, 7, 5, 5, 6, 6, 6, 6, 6, 5, 5, 5, 5, 6, 5,\n",
       "       5, 6, 6, 6, 5, 5, 5, 5, 6, 5, 6, 5, 6, 5, 6, 6, 7, 6, 6, 6, 5, 6,\n",
       "       6, 6, 5, 5, 6, 6, 5, 5, 5, 5, 6, 5, 5, 6, 5, 5, 6, 6, 6, 5, 6, 6,\n",
       "       6, 5, 6, 6, 5, 5, 6, 6, 5, 6, 5, 5, 5, 6, 7, 5, 6, 6, 5, 6, 5, 6,\n",
       "       6, 6, 6, 6, 6, 5, 5, 5, 6, 5, 5, 6, 6, 6, 6, 5, 5, 5, 6, 6, 5, 5,\n",
       "       6, 5, 6, 6, 5, 6, 5, 6, 6, 5, 5, 6, 5, 6, 6, 5, 6, 7, 6, 5, 6, 6,\n",
       "       6, 6, 5, 6, 6, 5, 5, 6, 5, 6, 6, 5, 5, 6, 5, 8, 5, 5, 5, 6, 5, 5,\n",
       "       4, 5, 6, 5, 5, 5, 6, 5, 7, 6, 5, 5, 6, 6, 5, 7, 6, 5, 5, 6, 5, 6,\n",
       "       5, 5, 6, 6, 6, 5, 5, 5, 6, 6, 6, 5, 5, 6, 5, 7, 6, 5, 6, 5, 5, 6,\n",
       "       6, 6, 5, 6, 5, 5, 6, 5, 6, 5, 6, 6, 5, 5, 6, 6, 6, 5, 6, 6, 7, 6,\n",
       "       6, 7, 4, 5, 5, 6, 6, 6, 6, 5, 5, 5, 5, 6, 4, 5, 6, 6, 6, 5, 6, 5,\n",
       "       5, 5, 5, 6, 7, 5, 5, 5, 6, 5, 7, 6, 7, 5, 6, 7, 5, 7, 6, 6, 6, 5,\n",
       "       5, 6, 6, 5], dtype=int64)"
      ]
     },
     "execution_count": 111,
     "metadata": {},
     "output_type": "execute_result"
    }
   ],
   "source": [
    "bag_knn.predict(x_test)"
   ]
  },
  {
   "cell_type": "code",
   "execution_count": 112,
   "id": "ac663ca6",
   "metadata": {},
   "outputs": [],
   "source": [
    "from sklearn.ensemble import RandomForestClassifier"
   ]
  },
  {
   "cell_type": "code",
   "execution_count": 113,
   "id": "79120c40",
   "metadata": {},
   "outputs": [],
   "source": [
    "rf = RandomForestClassifier(n_estimators=100)"
   ]
  },
  {
   "cell_type": "code",
   "execution_count": 114,
   "id": "910cda8a",
   "metadata": {},
   "outputs": [
    {
     "data": {
      "text/plain": [
       "RandomForestClassifier()"
      ]
     },
     "execution_count": 114,
     "metadata": {},
     "output_type": "execute_result"
    }
   ],
   "source": [
    "rf.fit(x_train,y_train)"
   ]
  },
  {
   "cell_type": "code",
   "execution_count": 115,
   "id": "c3baed78",
   "metadata": {},
   "outputs": [
    {
     "data": {
      "text/plain": [
       "0.6575"
      ]
     },
     "execution_count": 115,
     "metadata": {},
     "output_type": "execute_result"
    }
   ],
   "source": [
    "rf.score(x_test,y_test)"
   ]
  },
  {
   "cell_type": "code",
   "execution_count": 116,
   "id": "8de47cee",
   "metadata": {},
   "outputs": [
    {
     "data": {
      "text/plain": [
       "0.6825"
      ]
     },
     "execution_count": 116,
     "metadata": {},
     "output_type": "execute_result"
    }
   ],
   "source": [
    "bag_dt.score(x_test,y_test)"
   ]
  },
  {
   "cell_type": "code",
   "execution_count": 117,
   "id": "bf869436",
   "metadata": {},
   "outputs": [
    {
     "data": {
      "text/plain": [
       "0.4975"
      ]
     },
     "execution_count": 117,
     "metadata": {},
     "output_type": "execute_result"
    }
   ],
   "source": [
    "bag_knn.score(x_test,y_test)"
   ]
  },
  {
   "cell_type": "raw",
   "id": "38950a35",
   "metadata": {},
   "source": [
    "rf.estimators_"
   ]
  },
  {
   "cell_type": "code",
   "execution_count": 118,
   "id": "c584aedd",
   "metadata": {},
   "outputs": [
    {
     "data": {
      "text/plain": [
       "DecisionTreeClassifier(max_features='auto', random_state=1073388283)"
      ]
     },
     "execution_count": 118,
     "metadata": {},
     "output_type": "execute_result"
    }
   ],
   "source": [
    "rf.estimators_[0]"
   ]
  },
  {
   "cell_type": "raw",
   "id": "ab63ef63",
   "metadata": {},
   "source": [
    "import matplotlib.pylab as plt\n",
    "plt.figure(figsize =(20,20))\n",
    "tree.plot_tree(rf.estimators_[0], filled=True)"
   ]
  },
  {
   "cell_type": "raw",
   "id": "0c6afc0b",
   "metadata": {},
   "source": [
    "plt.figure(figsize = (20,20))\n",
    "for i in range(len(rf_estimators_)):\n",
    "    tree.plot_tree(rf.estimators_[i], filled = True)"
   ]
  },
  {
   "cell_type": "code",
   "execution_count": 119,
   "id": "7ca1be70",
   "metadata": {},
   "outputs": [],
   "source": [
    "grid_param = {\n",
    "    \"n_estimators\" : [5,10,50,100,120,150],\n",
    "    'criterion': ['gini', 'entropy'],\n",
    "    'max_depth': range(10),\n",
    "    'min_samples_leaf': range(10)\n",
    "}"
   ]
  },
  {
   "cell_type": "code",
   "execution_count": 120,
   "id": "b5b0604d",
   "metadata": {},
   "outputs": [],
   "source": [
    "rf = RandomForestClassifier(n_estimators=5)"
   ]
  },
  {
   "cell_type": "code",
   "execution_count": 121,
   "id": "208863de",
   "metadata": {},
   "outputs": [],
   "source": [
    "grid_search_rf = GridSearchCV(param_grid=grid_param,cv=10, n_jobs=6, verbose =1, estimator =rf )"
   ]
  },
  {
   "cell_type": "code",
   "execution_count": null,
   "id": "f12294f8",
   "metadata": {},
   "outputs": [
    {
     "name": "stdout",
     "output_type": "stream",
     "text": [
      "Fitting 10 folds for each of 1200 candidates, totalling 12000 fits\n"
     ]
    },
    {
     "name": "stderr",
     "output_type": "stream",
     "text": [
      "C:\\Users\\RAKSHANDA\\anaconda3\\lib\\site-packages\\sklearn\\model_selection\\_split.py:666: UserWarning: The least populated class in y has only 5 members, which is less than n_splits=10.\n",
      "  warnings.warn((\"The least populated class in y has only %d\"\n"
     ]
    }
   ],
   "source": [
    "grid_search_rf.fit(x_train,y_train)"
   ]
  },
  {
   "cell_type": "code",
   "execution_count": null,
   "id": "2aeb7f84",
   "metadata": {},
   "outputs": [],
   "source": [
    "grid_search_rf.best_params_"
   ]
  },
  {
   "cell_type": "code",
   "execution_count": null,
   "id": "34805d08",
   "metadata": {},
   "outputs": [],
   "source": [
    "rf_new = RandomForestClassifier(criterion='entropy', max_depth = 9, min_samples_leaf=1, n_estimators= 120)"
   ]
  },
  {
   "cell_type": "code",
   "execution_count": 65,
   "id": "9f55a06d",
   "metadata": {},
   "outputs": [
    {
     "data": {
      "text/plain": [
       "RandomForestClassifier(criterion='entropy', max_depth=9, n_estimators=120)"
      ]
     },
     "execution_count": 65,
     "metadata": {},
     "output_type": "execute_result"
    }
   ],
   "source": [
    "rf_new.fit(x_train,y_train)"
   ]
  },
  {
   "cell_type": "code",
   "execution_count": 66,
   "id": "2a913ea4",
   "metadata": {},
   "outputs": [
    {
     "data": {
      "text/plain": [
       "0.66"
      ]
     },
     "execution_count": 66,
     "metadata": {},
     "output_type": "execute_result"
    }
   ],
   "source": [
    "rf_new.score(x_test,y_test)"
   ]
  },
  {
   "cell_type": "code",
   "execution_count": null,
   "id": "6c7ff1ea",
   "metadata": {},
   "outputs": [],
   "source": []
  }
 ],
 "metadata": {
  "kernelspec": {
   "display_name": "Python 3 (ipykernel)",
   "language": "python",
   "name": "python3"
  },
  "language_info": {
   "codemirror_mode": {
    "name": "ipython",
    "version": 3
   },
   "file_extension": ".py",
   "mimetype": "text/x-python",
   "name": "python",
   "nbconvert_exporter": "python",
   "pygments_lexer": "ipython3",
   "version": "3.9.7"
  }
 },
 "nbformat": 4,
 "nbformat_minor": 5
}
